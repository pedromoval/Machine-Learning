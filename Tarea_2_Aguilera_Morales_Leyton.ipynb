{
  "nbformat": 4,
  "nbformat_minor": 0,
  "metadata": {
    "kernelspec": {
      "display_name": "Python 3",
      "language": "python",
      "name": "python3"
    },
    "language_info": {
      "codemirror_mode": {
        "name": "ipython",
        "version": 3
      },
      "file_extension": ".py",
      "mimetype": "text/x-python",
      "name": "python",
      "nbconvert_exporter": "python",
      "pygments_lexer": "ipython3",
      "version": "3.8.3"
    },
    "colab": {
      "name": "Tarea 2_Aguilera_Morales_Leyton.ipynb",
      "provenance": [],
      "collapsed_sections": []
    }
  },
  "cells": [
    {
      "cell_type": "markdown",
      "metadata": {
        "id": "2xZLyIvTT9L2"
      },
      "source": [
        "# Tarea 2 (fecha de entrega 21 de Octubre, 23:59:59 por webcursos)\n",
        "### Se permiten grupos de hasta 4 personas\n",
        "La NASA mantiene la información de varios cometas y después de un exhaustivo análisis ha determinado cuál de ellos es peligroso en caso de que choque a la tierra (variable Danger). Específicamente, han analizado en forma manual una muestra de 100.000 asteroides. Los datos consisten en 27 variables, con distinta información como por ejemplo nombre del asteroide, su periodo orbital, su periodo de rotación, etc. Todos los datos existentes, se encuentran en un puro archivo llamado tarea2Data.csv. Mientras que las descripciones de cada una de las variables se encuentran en el archivo tarea2Informacion.txt\n",
        "\n",
        "Desafortunadamente, la NASA todavía no ha evaluado 37.681 asteroides y no tienen tiempo para realizarlo. Por lo mismo, le piden que aplique modelos de Machine learning para obtener una evaluación de estos asteroides.\n",
        "\n",
        "1. Lea los datos y borre las variables/asteroides que estime necesario. En caso que crea que la base de datos todavía es demasiado grande para aplicar los modelos, usted puede tomar una muestra de la misma (1 punto).\n",
        "2. Aplique al menos 2 modelos de los vistos en clases (si quiere puede aplicar modelos de clustering y usarlos como clasificación) y realice una correcta comparación entre ellos. En este punto se evaluará la correcta selección de parámetros, como la correcta comparación entre los modelos seleccionados (4 puntos).\n",
        "3. Seleccione uno de los modelos del punto anterior y evalue los 37.681 asteroides que la NASA no ha evaluado. Se deberá generar un archivo csv con 37.681 filas, cada fila podrá ser False o True, donde False representa que el asteroide no es peligroso para la tierra (1 punto). \n",
        "\n",
        "El punto de evaluación final será una competencia entre todas las tareas basados en los f1-score (pos_label=\"False\") obtenido por cada grupo. El puntaje final será una regresión lineal entre el peor y mejor puntaje."
      ]
    },
    {
      "cell_type": "markdown",
      "metadata": {
        "id": "-2fFewegBRK5"
      },
      "source": [
        "# 1. Cargamos los datos, los estudiamos y procesamos.\n",
        "\n",
        "Instalamos las librerias necesarias para comenzar el analisis exploratorio de los datos."
      ]
    },
    {
      "cell_type": "code",
      "metadata": {
        "id": "O_TKCkRnDmmi",
        "colab": {
          "base_uri": "https://localhost:8080/"
        },
        "outputId": "1ce5f59b-9f68-4888-eb16-c796749e6c01"
      },
      "source": [
        "!pip install missingpy\n",
        "!pip install sweetviz\n",
        "import sweetviz as sv\n",
        "import missingno as msno \n",
        "import numpy as np\n",
        "import pandas as pd\n",
        "import seaborn as sns\n",
        "from sklearn.model_selection import train_test_split\n",
        "from missingpy import MissForest\n",
        "import matplotlib.pyplot as plt\n",
        "%matplotlib inline\n",
        "plt.rcParams['figure.figsize'] = (15.0, 12.0)\n",
        "import seaborn as sns\n",
        "from scipy import stats\n",
        "from scipy.stats import norm\n",
        "from plotnine import *"
      ],
      "execution_count": 1,
      "outputs": [
        {
          "output_type": "stream",
          "name": "stdout",
          "text": [
            "Collecting missingpy\n",
            "  Downloading missingpy-0.2.0-py3-none-any.whl (49 kB)\n",
            "\u001b[?25l\r\u001b[K     |██████▊                         | 10 kB 23.6 MB/s eta 0:00:01\r\u001b[K     |█████████████▍                  | 20 kB 27.7 MB/s eta 0:00:01\r\u001b[K     |████████████████████            | 30 kB 12.3 MB/s eta 0:00:01\r\u001b[K     |██████████████████████████▊     | 40 kB 9.4 MB/s eta 0:00:01\r\u001b[K     |████████████████████████████████| 49 kB 2.7 MB/s \n",
            "\u001b[?25hInstalling collected packages: missingpy\n",
            "Successfully installed missingpy-0.2.0\n",
            "Collecting sweetviz\n",
            "  Downloading sweetviz-2.1.3-py3-none-any.whl (15.1 MB)\n",
            "\u001b[K     |████████████████████████████████| 15.1 MB 190 kB/s \n",
            "\u001b[?25hRequirement already satisfied: matplotlib>=3.1.3 in /usr/local/lib/python3.7/dist-packages (from sweetviz) (3.2.2)\n",
            "Requirement already satisfied: tqdm>=4.43.0 in /usr/local/lib/python3.7/dist-packages (from sweetviz) (4.62.3)\n",
            "Requirement already satisfied: scipy>=1.3.2 in /usr/local/lib/python3.7/dist-packages (from sweetviz) (1.4.1)\n",
            "Requirement already satisfied: importlib-resources>=1.2.0 in /usr/local/lib/python3.7/dist-packages (from sweetviz) (5.2.2)\n",
            "Requirement already satisfied: jinja2>=2.11.1 in /usr/local/lib/python3.7/dist-packages (from sweetviz) (2.11.3)\n",
            "Requirement already satisfied: pandas!=1.0.0,!=1.0.1,!=1.0.2,>=0.25.3 in /usr/local/lib/python3.7/dist-packages (from sweetviz) (1.1.5)\n",
            "Requirement already satisfied: numpy>=1.16.0 in /usr/local/lib/python3.7/dist-packages (from sweetviz) (1.19.5)\n",
            "Requirement already satisfied: zipp>=3.1.0 in /usr/local/lib/python3.7/dist-packages (from importlib-resources>=1.2.0->sweetviz) (3.6.0)\n",
            "Requirement already satisfied: MarkupSafe>=0.23 in /usr/local/lib/python3.7/dist-packages (from jinja2>=2.11.1->sweetviz) (2.0.1)\n",
            "Requirement already satisfied: python-dateutil>=2.1 in /usr/local/lib/python3.7/dist-packages (from matplotlib>=3.1.3->sweetviz) (2.8.2)\n",
            "Requirement already satisfied: pyparsing!=2.0.4,!=2.1.2,!=2.1.6,>=2.0.1 in /usr/local/lib/python3.7/dist-packages (from matplotlib>=3.1.3->sweetviz) (2.4.7)\n",
            "Requirement already satisfied: cycler>=0.10 in /usr/local/lib/python3.7/dist-packages (from matplotlib>=3.1.3->sweetviz) (0.10.0)\n",
            "Requirement already satisfied: kiwisolver>=1.0.1 in /usr/local/lib/python3.7/dist-packages (from matplotlib>=3.1.3->sweetviz) (1.3.2)\n",
            "Requirement already satisfied: six in /usr/local/lib/python3.7/dist-packages (from cycler>=0.10->matplotlib>=3.1.3->sweetviz) (1.15.0)\n",
            "Requirement already satisfied: pytz>=2017.2 in /usr/local/lib/python3.7/dist-packages (from pandas!=1.0.0,!=1.0.1,!=1.0.2,>=0.25.3->sweetviz) (2018.9)\n",
            "Installing collected packages: sweetviz\n",
            "Successfully installed sweetviz-2.1.3\n"
          ]
        },
        {
          "output_type": "stream",
          "name": "stderr",
          "text": [
            "/usr/local/lib/python3.7/dist-packages/sklearn/utils/deprecation.py:144: FutureWarning: The sklearn.neighbors.base module is  deprecated in version 0.22 and will be removed in version 0.24. The corresponding classes / functions should instead be imported from sklearn.neighbors. Anything that cannot be imported from sklearn.neighbors is now part of the private API.\n",
            "  warnings.warn(message, FutureWarning)\n"
          ]
        }
      ]
    },
    {
      "cell_type": "markdown",
      "metadata": {
        "id": "Xk7P86OvB5AC"
      },
      "source": [
        "Cargamos los datos necesarios para codificar.\n",
        "Identificamos las columnas de la base de datos.\n",
        "Imprimimos una tabla resumen de los datos.\n",
        "Luego visualizamos la información general de los datos para chequear algunas cosas como: tipos de datos, datos faltantes, cantidad de registros, columnas y filas totales."
      ]
    },
    {
      "cell_type": "code",
      "metadata": {
        "id": "ySldGr2SB_l9",
        "colab": {
          "base_uri": "https://localhost:8080/"
        },
        "outputId": "dbfbfc56-e8ef-4e22-cca1-ab52602501fd"
      },
      "source": [
        "datos = pd.read_csv(\"tarea2Data.csv\") \n",
        "print(datos.columns)\n",
        "print(datos.head())\n",
        "print(datos.info())\n",
        "# Cantidad de registros\n",
        "print(\"cantidad de registros\", datos.count())"
      ],
      "execution_count": 188,
      "outputs": [
        {
          "output_type": "stream",
          "name": "stdout",
          "text": [
            "Index(['full_name', 'a', 'e', 'G', 'i', 'om', 'w', 'q', 'ad', 'per_y',\n",
            "       'data_arc', 'condition_code', 'n_obs_used', 'H', 'extent', 'albedo',\n",
            "       'rot_per', 'GM', 'BV', 'UB', 'IR', 'spec_B', 'spec_T', 'neo', 'pha',\n",
            "       'moid', 'Danger'],\n",
            "      dtype='object')\n",
            "      full_name         a         e   G  ...  neo  pha     moid  Danger\n",
            "0    (1162 T-1)  3.069911  0.096918 NaN  ...    N    N  1.78504    True\n",
            "1  (2000 WV173)  3.126769  0.101765 NaN  ...    N    N  1.85923    True\n",
            "2   (2010 PE41)  3.240195  0.114902 NaN  ...    N    N  1.92025    True\n",
            "3  (1999 TF222)  3.118650  0.062830 NaN  ...    N    N  1.94124    True\n",
            "4   (2003 WG74)  3.032740  0.104018 NaN  ...    N    N  1.73110    True\n",
            "\n",
            "[5 rows x 27 columns]\n",
            "<class 'pandas.core.frame.DataFrame'>\n",
            "RangeIndex: 100000 entries, 0 to 99999\n",
            "Data columns (total 27 columns):\n",
            " #   Column          Non-Null Count   Dtype  \n",
            "---  ------          --------------   -----  \n",
            " 0   full_name       100000 non-null  object \n",
            " 1   a               100000 non-null  float64\n",
            " 2   e               100000 non-null  float64\n",
            " 3   G               83 non-null      float64\n",
            " 4   i               100000 non-null  float64\n",
            " 5   om              100000 non-null  float64\n",
            " 6   w               100000 non-null  float64\n",
            " 7   q               100000 non-null  float64\n",
            " 8   ad              100000 non-null  float64\n",
            " 9   per_y           100000 non-null  float64\n",
            " 10  data_arc        99902 non-null   float64\n",
            " 11  condition_code  100000 non-null  int64  \n",
            " 12  n_obs_used      100000 non-null  int64  \n",
            " 13  H               99450 non-null   float64\n",
            " 14  extent          11 non-null      object \n",
            " 15  albedo          99106 non-null   float64\n",
            " 16  rot_per         8102 non-null    float64\n",
            " 17  GM              11 non-null      float64\n",
            " 18  BV              709 non-null     float64\n",
            " 19  UB              682 non-null     float64\n",
            " 20  IR              1 non-null       float64\n",
            " 21  spec_B          989 non-null     object \n",
            " 22  spec_T          690 non-null     object \n",
            " 23  neo             100000 non-null  object \n",
            " 24  pha             100000 non-null  object \n",
            " 25  moid            100000 non-null  float64\n",
            " 26  Danger          100000 non-null  bool   \n",
            "dtypes: bool(1), float64(18), int64(2), object(6)\n",
            "memory usage: 19.9+ MB\n",
            "None\n",
            "cantidad de registros full_name         100000\n",
            "a                 100000\n",
            "e                 100000\n",
            "G                     83\n",
            "i                 100000\n",
            "om                100000\n",
            "w                 100000\n",
            "q                 100000\n",
            "ad                100000\n",
            "per_y             100000\n",
            "data_arc           99902\n",
            "condition_code    100000\n",
            "n_obs_used        100000\n",
            "H                  99450\n",
            "extent                11\n",
            "albedo             99106\n",
            "rot_per             8102\n",
            "GM                    11\n",
            "BV                   709\n",
            "UB                   682\n",
            "IR                     1\n",
            "spec_B               989\n",
            "spec_T               690\n",
            "neo               100000\n",
            "pha               100000\n",
            "moid              100000\n",
            "Danger            100000\n",
            "dtype: int64\n"
          ]
        }
      ]
    },
    {
      "cell_type": "markdown",
      "metadata": {
        "id": "bpSqkIS1EqkE"
      },
      "source": [
        "Verificamos la cantidad de datos nulos que posee cada columna de la BD.\n",
        "Posteriormente verificamos la cantidad de registros unicos que poseen los campos para tener una mayor aproximación y entendimiento de los ellos."
      ]
    },
    {
      "cell_type": "code",
      "metadata": {
        "id": "YdJt7cpKErYX",
        "colab": {
          "base_uri": "https://localhost:8080/"
        },
        "outputId": "f221af22-3a75-4bf0-dd1c-da195196c238"
      },
      "source": [
        "print(\"Valores nulos totales:\")\n",
        "print(datos.isnull().sum())\n",
        "print('______________ \\n')\n",
        "print(\"Porcentaje de valores nulos totales:\")\n",
        "print(datos.isnull().sum() / len(datos) * 100)"
      ],
      "execution_count": 189,
      "outputs": [
        {
          "output_type": "stream",
          "name": "stdout",
          "text": [
            "Valores nulos totales:\n",
            "full_name             0\n",
            "a                     0\n",
            "e                     0\n",
            "G                 99917\n",
            "i                     0\n",
            "om                    0\n",
            "w                     0\n",
            "q                     0\n",
            "ad                    0\n",
            "per_y                 0\n",
            "data_arc             98\n",
            "condition_code        0\n",
            "n_obs_used            0\n",
            "H                   550\n",
            "extent            99989\n",
            "albedo              894\n",
            "rot_per           91898\n",
            "GM                99989\n",
            "BV                99291\n",
            "UB                99318\n",
            "IR                99999\n",
            "spec_B            99011\n",
            "spec_T            99310\n",
            "neo                   0\n",
            "pha                   0\n",
            "moid                  0\n",
            "Danger                0\n",
            "dtype: int64\n",
            "______________ \n",
            "\n",
            "Porcentaje de valores nulos totales:\n",
            "full_name          0.000\n",
            "a                  0.000\n",
            "e                  0.000\n",
            "G                 99.917\n",
            "i                  0.000\n",
            "om                 0.000\n",
            "w                  0.000\n",
            "q                  0.000\n",
            "ad                 0.000\n",
            "per_y              0.000\n",
            "data_arc           0.098\n",
            "condition_code     0.000\n",
            "n_obs_used         0.000\n",
            "H                  0.550\n",
            "extent            99.989\n",
            "albedo             0.894\n",
            "rot_per           91.898\n",
            "GM                99.989\n",
            "BV                99.291\n",
            "UB                99.318\n",
            "IR                99.999\n",
            "spec_B            99.011\n",
            "spec_T            99.310\n",
            "neo                0.000\n",
            "pha                0.000\n",
            "moid               0.000\n",
            "Danger             0.000\n",
            "dtype: float64\n"
          ]
        }
      ]
    },
    {
      "cell_type": "markdown",
      "metadata": {
        "id": "jjewGTJ7IaU5"
      },
      "source": [
        "Generamos una matriz con todos los datos, para visualizar que tan poblado se encuentra cada una de las distintas variables."
      ]
    },
    {
      "cell_type": "code",
      "metadata": {
        "id": "EWQaocKMIaji",
        "colab": {
          "base_uri": "https://localhost:8080/",
          "height": 735
        },
        "outputId": "8368dfc3-73ae-4223-f862-6e63c11b79cb"
      },
      "source": [
        "# para detectar una matriz con los datos nulos\n",
        "print(msno.matrix(datos))\n",
        "print('Podemos observar que existen variables que la mayoria de sus datos son nulos, tales como: \\n G, extent, rot_per, GM, BV, UB, IR, spec_B, spec_T')"
      ],
      "execution_count": 190,
      "outputs": [
        {
          "output_type": "stream",
          "name": "stdout",
          "text": [
            "AxesSubplot(0.125,0.125;0.698618x0.755)\n",
            "Podemos observar que existen variables que la mayoria de sus datos son nulos, tales como: \n",
            " G, extent, rot_per, GM, BV, UB, IR, spec_B, spec_T\n"
          ]
        },
        {
          "output_type": "display_data",
          "data": {
            "image/png": "[encoded data removed]",
            "text/plain": [
              "<Figure size 1800x720 with 2 Axes>"
            ]
          },
          "metadata": {
            "needs_background": "light"
          }
        }
      ]
    },
    {
      "cell_type": "markdown",
      "metadata": {
        "id": "HleEQxKmJQt5"
      },
      "source": [
        "Eliminamos las siguientes variables de nuestro analisis: \n",
        "- full_name: Dado que es el nombre del asteroide y no nos entrega información relevante de cara al analisis.\n",
        "- G, extent, rot_per, GM, BV, UB, IR, spec_B, spec_T: Todas ellas las elimanaremos de nuestro dataset dado el alto número de datos nulos que poseen (sobre el 99% de los valores nulos) eso dificulta poder realizar cualquier tipo de tratamiento a las mismas."
      ]
    },
    {
      "cell_type": "code",
      "metadata": {
        "id": "VsiaWBDOJQ_z",
        "colab": {
          "base_uri": "https://localhost:8080/"
        },
        "outputId": "a29f9269-e9bf-4e8b-ea09-71d5c70f3d3b"
      },
      "source": [
        "datos = datos.drop(['full_name','G','extent','rot_per','GM','BV','UB','IR','spec_B','spec_T'], axis=1)\n",
        "print(datos.columns)"
      ],
      "execution_count": 191,
      "outputs": [
        {
          "output_type": "stream",
          "name": "stdout",
          "text": [
            "Index(['a', 'e', 'i', 'om', 'w', 'q', 'ad', 'per_y', 'data_arc',\n",
            "       'condition_code', 'n_obs_used', 'H', 'albedo', 'neo', 'pha', 'moid',\n",
            "       'Danger'],\n",
            "      dtype='object')\n"
          ]
        }
      ]
    },
    {
      "cell_type": "markdown",
      "metadata": {
        "id": "G05HnEt8MBqa"
      },
      "source": [
        "Volvemos a visualizar los datos de las variables que mantuvimos en nuestro dataset, despues de haber realizado la eliminación de variables que poseian un alto número de valores nulos:"
      ]
    },
    {
      "cell_type": "code",
      "metadata": {
        "id": "kPqZ3V8KMB1U",
        "colab": {
          "base_uri": "https://localhost:8080/",
          "height": 701
        },
        "outputId": "1b65db44-d129-4155-fd68-cb6ca1c4db3e"
      },
      "source": [
        "print(msno.matrix(datos))"
      ],
      "execution_count": 192,
      "outputs": [
        {
          "output_type": "stream",
          "name": "stdout",
          "text": [
            "AxesSubplot(0.125,0.125;0.698618x0.755)\n"
          ]
        },
        {
          "output_type": "display_data",
          "data": {
            "image/png": "[encoded data removed]",
            "text/plain": [
              "<Figure size 1800x720 with 2 Axes>"
            ]
          },
          "metadata": {
            "needs_background": "light"
          }
        }
      ]
    },
    {
      "cell_type": "code",
      "metadata": {
        "id": "SdseaqUKT9L7",
        "colab": {
          "base_uri": "https://localhost:8080/"
        },
        "outputId": "2314c9a3-9b69-4de4-90ca-467d47756d57"
      },
      "source": [
        "print('Tomamos la variable objetivo \"Danger\" y la transformamos en valores 0 para False y 1 para True \\n')\n",
        "condicion1 = [\n",
        "    (datos['Danger'] == False),\n",
        "    (datos['Danger'] == True),\n",
        "    ]\n",
        "valores1 = [0, 1]\n",
        "datos['Danger'] = np.select(condicion1, valores1)\n",
        "\n",
        "print(\"Danger\")\n",
        "print(datos.Danger.value_counts(normalize=True))\n",
        "print('\\n')\n",
        "print('Podemos observar que sobre el 90% de los datos que cotiene el dataset tienen un True (1 luego de la modificación) para la variable objetivo Danger')"
      ],
      "execution_count": 193,
      "outputs": [
        {
          "output_type": "stream",
          "name": "stdout",
          "text": [
            "Tomamos la variable objetivo \"Danger\" y la transformamos en valores 0 para False y 1 para True \n",
            "\n",
            "Danger\n",
            "1    0.90461\n",
            "0    0.09539\n",
            "Name: Danger, dtype: float64\n",
            "\n",
            "\n",
            "Podemos observar que sobre el 90% de los datos que cotiene el dataset tienen un True (1 luego de la modificación) para la variable objetivo Danger\n"
          ]
        }
      ]
    },
    {
      "cell_type": "code",
      "metadata": {
        "colab": {
          "base_uri": "https://localhost:8080/"
        },
        "id": "KWJaBdjat9J4",
        "outputId": "b4be7173-b3bc-45b6-f7cc-b452f5e7f07f"
      },
      "source": [
        "#separate variables into new data frames\n",
        "numeric_data = datos.select_dtypes(include=[np.number])\n",
        "shape_numeric_data=numeric_data.shape[1]\n",
        "\n",
        "cat_data = datos.select_dtypes(exclude=[np.number])\n",
        "shape_cat_data=cat_data.shape[1]\n",
        "\n",
        "print(f\"Podemos observar que en la base de datos encontramos {shape_numeric_data} campos numericos y {shape_cat_data} categoricos. \\n\")\n",
        "datos.info()"
      ],
      "execution_count": 194,
      "outputs": [
        {
          "output_type": "stream",
          "name": "stdout",
          "text": [
            "Podemos observar que en la base de datos encontramos 15 campos numericos y 2 categoricos. \n",
            "\n",
            "<class 'pandas.core.frame.DataFrame'>\n",
            "RangeIndex: 100000 entries, 0 to 99999\n",
            "Data columns (total 17 columns):\n",
            " #   Column          Non-Null Count   Dtype  \n",
            "---  ------          --------------   -----  \n",
            " 0   a               100000 non-null  float64\n",
            " 1   e               100000 non-null  float64\n",
            " 2   i               100000 non-null  float64\n",
            " 3   om              100000 non-null  float64\n",
            " 4   w               100000 non-null  float64\n",
            " 5   q               100000 non-null  float64\n",
            " 6   ad              100000 non-null  float64\n",
            " 7   per_y           100000 non-null  float64\n",
            " 8   data_arc        99902 non-null   float64\n",
            " 9   condition_code  100000 non-null  int64  \n",
            " 10  n_obs_used      100000 non-null  int64  \n",
            " 11  H               99450 non-null   float64\n",
            " 12  albedo          99106 non-null   float64\n",
            " 13  neo             100000 non-null  object \n",
            " 14  pha             100000 non-null  object \n",
            " 15  moid            100000 non-null  float64\n",
            " 16  Danger          100000 non-null  int64  \n",
            "dtypes: float64(12), int64(3), object(2)\n",
            "memory usage: 13.0+ MB\n"
          ]
        }
      ]
    },
    {
      "cell_type": "markdown",
      "metadata": {
        "id": "qrYHDSykIuUb"
      },
      "source": [
        "Queremos conocer si es que existe alguna correlación entre las variables, y para eso utilizaremos la siguiente visualización para ver si podemos identificar alguna de ellas."
      ]
    },
    {
      "cell_type": "code",
      "metadata": {
        "id": "KDO1TZztxaPf",
        "colab": {
          "base_uri": "https://localhost:8080/",
          "height": 1000
        },
        "outputId": "95c5e852-0cf4-4690-b68e-57352cd26e99"
      },
      "source": [
        "print(plt.figure(figsize=(20,20)))\n",
        "print(sns.heatmap(data=round(datos.corr(),2), annot=True)) "
      ],
      "execution_count": 195,
      "outputs": [
        {
          "output_type": "stream",
          "name": "stdout",
          "text": [
            "Figure(1440x1440)\n",
            "AxesSubplot(0.125,0.125;0.62x0.755)\n"
          ]
        },
        {
          "output_type": "display_data",
          "data": {
            "image/png": "[encoded data removed]",
            "text/plain": [
              "<Figure size 1440x1440 with 2 Axes>"
            ]
          },
          "metadata": {
            "needs_background": "light"
          }
        }
      ]
    },
    {
      "cell_type": "markdown",
      "metadata": {
        "id": "KpaclEbQ0Hrx"
      },
      "source": [
        "Considerando que el dataset contiene una gran cantidad de datos y podemos observar que aún existen datos nulos dentro de las variables que hemos seleccionado, decidimos eliminar directamente lo valores nulos que aun se mantienen "
      ]
    },
    {
      "cell_type": "code",
      "metadata": {
        "colab": {
          "base_uri": "https://localhost:8080/"
        },
        "id": "gYYTOJJ90GCI",
        "outputId": "99cab311-b603-4ead-f24c-947f681ec84e"
      },
      "source": [
        "datos1 = datos.dropna()\n",
        "datos1.info()\n",
        "print('\\n')\n",
        "print('Podemos observar que el dataset a quedado sin datos nulos')"
      ],
      "execution_count": 196,
      "outputs": [
        {
          "output_type": "stream",
          "name": "stdout",
          "text": [
            "<class 'pandas.core.frame.DataFrame'>\n",
            "Int64Index: 98815 entries, 0 to 99999\n",
            "Data columns (total 17 columns):\n",
            " #   Column          Non-Null Count  Dtype  \n",
            "---  ------          --------------  -----  \n",
            " 0   a               98815 non-null  float64\n",
            " 1   e               98815 non-null  float64\n",
            " 2   i               98815 non-null  float64\n",
            " 3   om              98815 non-null  float64\n",
            " 4   w               98815 non-null  float64\n",
            " 5   q               98815 non-null  float64\n",
            " 6   ad              98815 non-null  float64\n",
            " 7   per_y           98815 non-null  float64\n",
            " 8   data_arc        98815 non-null  float64\n",
            " 9   condition_code  98815 non-null  int64  \n",
            " 10  n_obs_used      98815 non-null  int64  \n",
            " 11  H               98815 non-null  float64\n",
            " 12  albedo          98815 non-null  float64\n",
            " 13  neo             98815 non-null  object \n",
            " 14  pha             98815 non-null  object \n",
            " 15  moid            98815 non-null  float64\n",
            " 16  Danger          98815 non-null  int64  \n",
            "dtypes: float64(12), int64(3), object(2)\n",
            "memory usage: 13.6+ MB\n",
            "\n",
            "\n",
            "Podemos observar que el dataset a quedado sin datos nulos\n"
          ]
        }
      ]
    },
    {
      "cell_type": "markdown",
      "metadata": {
        "id": "rdh4mSSuY471"
      },
      "source": [
        "Por ultimo mostramos un histograma por cada variable numerica e identificamos si poseen algun tipo de sesgo y/o comportamiento dada su naturaleza. "
      ]
    },
    {
      "cell_type": "code",
      "metadata": {
        "colab": {
          "base_uri": "https://localhost:8080/",
          "height": 1000
        },
        "id": "3b_GrwXNdu4x",
        "outputId": "b427443c-59b1-413f-cb69-715ffc681ff5"
      },
      "source": [
        "numeric_data.hist(figsize=(16,20),bins=50,xlabelsize=8,ylabelsize=8);"
      ],
      "execution_count": 197,
      "outputs": [
        {
          "output_type": "display_data",
          "data": {
            "image/png": "[encoded data removed]",
            "text/plain": [
              "<Figure size 1152x1440 with 16 Axes>"
            ]
          },
          "metadata": {
            "needs_background": "light"
          }
        }
      ]
    },
    {
      "cell_type": "markdown",
      "metadata": {
        "id": "nor2aT-L1fKk"
      },
      "source": [
        "# 2. Aplicamos los Modelos"
      ]
    },
    {
      "cell_type": "markdown",
      "metadata": {
        "id": "SmfPexZe2U3z"
      },
      "source": [
        "**Aplicaremos KNN como primer modelo seleccionado**"
      ]
    },
    {
      "cell_type": "markdown",
      "metadata": {
        "id": "z6GbcjaoZ7D_"
      },
      "source": [
        "Preparamos K-fold cross validation para un valor específico de k=1 (KNN) y utilizamos numFolds=10, esto para conocer como se comporta el modelo de forma más básica.\n"
      ]
    },
    {
      "cell_type": "markdown",
      "metadata": {
        "id": "Wm_Eh9uPxp27"
      },
      "source": [
        "Como utilizaremos KNN este modelo solo acepta datos númericos por este motivo eliminaremos las variables:\n",
        "- neo: Contiene valores\n",
        "- pha: Contiene valores\n",
        "- condition_code: la cual posee valores del 0 al 9, pero que cada una de ellas indica una información que no conocemos.\n",
        "Además la variable Danger la pasaremos al tipo string para que no tengamos problemas al trabajar con el modelo."
      ]
    },
    {
      "cell_type": "code",
      "metadata": {
        "colab": {
          "base_uri": "https://localhost:8080/"
        },
        "id": "CAVttovOLxVB",
        "outputId": "aad2e98c-db21-4126-f863-9c22597184bb"
      },
      "source": [
        "datos2= datos1\n",
        "#Conviertir var: Danger a type objetc (string)\n",
        "datos2['Danger'] = datos2.Danger.astype(str)"
      ],
      "execution_count": 198,
      "outputs": [
        {
          "output_type": "stream",
          "name": "stderr",
          "text": [
            "/usr/local/lib/python3.7/dist-packages/ipykernel_launcher.py:3: SettingWithCopyWarning: \n",
            "A value is trying to be set on a copy of a slice from a DataFrame.\n",
            "Try using .loc[row_indexer,col_indexer] = value instead\n",
            "\n",
            "See the caveats in the documentation: https://pandas.pydata.org/pandas-docs/stable/user_guide/indexing.html#returning-a-view-versus-a-copy\n",
            "  This is separate from the ipykernel package so we can avoid doing imports until\n"
          ]
        }
      ]
    },
    {
      "cell_type": "code",
      "metadata": {
        "colab": {
          "base_uri": "https://localhost:8080/"
        },
        "id": "XEdFk0XKyEwU",
        "outputId": "82ed7cac-8597-412f-d120-fb26d548feb0"
      },
      "source": [
        "datos2 = datos2.drop(['neo','pha','condition_code'],axis=1)\n",
        "datos2.info()"
      ],
      "execution_count": 199,
      "outputs": [
        {
          "output_type": "stream",
          "name": "stdout",
          "text": [
            "<class 'pandas.core.frame.DataFrame'>\n",
            "Int64Index: 98815 entries, 0 to 99999\n",
            "Data columns (total 14 columns):\n",
            " #   Column      Non-Null Count  Dtype  \n",
            "---  ------      --------------  -----  \n",
            " 0   a           98815 non-null  float64\n",
            " 1   e           98815 non-null  float64\n",
            " 2   i           98815 non-null  float64\n",
            " 3   om          98815 non-null  float64\n",
            " 4   w           98815 non-null  float64\n",
            " 5   q           98815 non-null  float64\n",
            " 6   ad          98815 non-null  float64\n",
            " 7   per_y       98815 non-null  float64\n",
            " 8   data_arc    98815 non-null  float64\n",
            " 9   n_obs_used  98815 non-null  int64  \n",
            " 10  H           98815 non-null  float64\n",
            " 11  albedo      98815 non-null  float64\n",
            " 12  moid        98815 non-null  float64\n",
            " 13  Danger      98815 non-null  object \n",
            "dtypes: float64(12), int64(1), object(1)\n",
            "memory usage: 11.3+ MB\n"
          ]
        }
      ]
    },
    {
      "cell_type": "code",
      "metadata": {
        "id": "Y0-ULO6ibw4k",
        "colab": {
          "base_uri": "https://localhost:8080/"
        },
        "outputId": "a8d65480-6da0-409e-ff2a-c9eb86f840a9"
      },
      "source": [
        "from sklearn.model_selection import train_test_split\n",
        "from sklearn.preprocessing import StandardScaler\n",
        "from sklearn.model_selection import KFold\n",
        "from sklearn.neighbors import KNeighborsClassifier\n",
        "from sklearn import metrics as mt\n",
        "\n",
        "numFolds=10\n",
        "\n",
        "kf = KFold(n_splits=numFolds, shuffle=True)\n",
        "temp = kf.split(datos2)\n",
        "\n",
        "KNN = KNeighborsClassifier(n_neighbors=1, weights='uniform')\n",
        "\n",
        "allF1Test=np.zeros((numFolds,1))\n",
        "allF1Train=np.zeros((numFolds,1))\n",
        "allAcc=np.zeros((numFolds,1))\n",
        "allRecall=np.zeros((numFolds,1))\n",
        "allPrecision=np.zeros((numFolds,1))\n",
        "\n",
        "scaler = StandardScaler()\n",
        "\n",
        "\n",
        "index=0 \n",
        "for train_index, test_index in temp:\n",
        "    scaler = scaler.fit(datos2.iloc[train_index,:13]) \n",
        "    numericData = scaler.transform(datos2.iloc[:,:13])\n",
        "    KNN = KNN.fit(numericData[train_index,:],datos2.iloc[train_index,13])\n",
        "    prediccion=KNN.predict(numericData[train_index,:])    \n",
        "    allF1Train[index]=mt.f1_score(datos2.iloc[train_index,13],prediccion,pos_label='1') \n",
        "    prediccion=KNN.predict(numericData[test_index,:])\n",
        "    allF1Test[index]=mt.f1_score(datos2.iloc[test_index,13],prediccion,pos_label='1')\n",
        "    allRecall[index]=mt.recall_score(datos2.iloc[test_index,13],prediccion,pos_label='1')\n",
        "    allPrecision[index]=mt.precision_score(datos2.iloc[test_index,13],prediccion,pos_label='1')\n",
        "    allAcc[index]=mt.accuracy_score(datos2.iloc[test_index,13],prediccion)\n",
        "    index+=1\n",
        "\n",
        "\n",
        "print('Calculamos el f1-score, recall, y precision usando la clase \"1\" como pos label (pos_label=\"1\") y') \n",
        "print('mostramos por pantalla los errores de entrenamiento (solo F1-score) y test (F1-score, recall, y precision)')\n",
        "print(\"Average F1-score train: \",allF1Train.mean(),\"+-\",allF1Train.std())\n",
        "print(\"Average F1-score test: \",allF1Test.mean(),\"+-\",allF1Test.std())\n",
        "print(\"Average recall test: \",allRecall.mean(),\"+-\",allRecall.std())\n",
        "print(\"Average precision test: \",allPrecision.mean(),\"+-\",allPrecision.std())\n",
        "print(\"Average accuracy test: \",allAcc.mean(),\"+-\",allAcc.std())"
      ],
      "execution_count": 200,
      "outputs": [
        {
          "output_type": "stream",
          "name": "stdout",
          "text": [
            "Calculamos el f1-score, recall, y precision usando la clase \"1\" como pos label (pos_label=\"1\") y\n",
            "mostramos por pantalla los errores de entrenamiento (solo F1-score) y test (F1-score, recall, y precision)\n",
            "Average F1-score train:  1.0 +- 0.0\n",
            "Average F1-score test:  0.9720224402434525 +- 0.000723512016461456\n",
            "Average recall test:  0.9744030227285145 +- 0.0009315735075806483\n",
            "Average precision test:  0.9696572530676766 +- 0.0019650934544807146\n",
            "Average accuracy test:  0.9491777614040189 +- 0.0012619813361662861\n"
          ]
        }
      ]
    },
    {
      "cell_type": "markdown",
      "metadata": {
        "id": "XYOb94bQoTGR"
      },
      "source": [
        "Generalizamos el valor de k para KNN en múltiples valores y probamos desde k=1 hasta k=7.\n",
        "\n",
        "Posteriormente comenzamos la búsqueda del mejor k."
      ]
    },
    {
      "cell_type": "code",
      "metadata": {
        "id": "mYFhYZYBp5rB"
      },
      "source": [
        "from sklearn.model_selection import KFold\n",
        "from sklearn.neighbors import KNeighborsClassifier\n",
        "from sklearn import metrics as mt\n",
        "from sklearn.preprocessing import StandardScaler\n",
        "\n",
        "maxK=7\n",
        "\n",
        "allResults=pd.DataFrame(np.zeros((maxK,11)),columns=[\"meanTrain\",'stdTrain',\"meanTest\",'stdTest','meanRecallTest',\"stdRecallTest\",'meanPrecisionTest',\"stdPrecisionTest\",'meanAccTest',\"stdAccTest\",\"ejeX\"])\n",
        "allResults.iloc[:,allResults.shape[1]-1]=list(range(1,maxK+1))\n",
        "\n",
        "scaler = StandardScaler()\n",
        "\n",
        "numFolds=10\n",
        "kf = KFold(n_splits=numFolds,shuffle=True)\n",
        "\n",
        "\n",
        "for k in range(1,maxK+1):\n",
        "    KNN = KNeighborsClassifier(n_neighbors=k, weights='uniform')\n",
        "\n",
        "    allF1Test=np.zeros((numFolds,1))\n",
        "    allF1Train=np.zeros((numFolds,1))\n",
        "    allPrecision=np.zeros((numFolds,1))\n",
        "    allRecall=np.zeros((numFolds,1))\n",
        "    allAcc=np.zeros((numFolds,1))\n",
        "    index=0\n",
        "    for train_index, test_index in kf.split(datos2):        \n",
        "        scaler = scaler.fit(datos2.iloc[train_index,:13])\n",
        "        numericData = scaler.transform(datos2.iloc[:,:13])\n",
        "        KNN = KNN.fit(numericData[train_index,:],datos2.iloc[train_index,13])\n",
        "        prediccion=KNN.predict(numericData[train_index,:])\n",
        "        allF1Train[index]=mt.f1_score(datos2.iloc[train_index,13],prediccion, pos_label='1')\n",
        "        prediccion=KNN.predict(numericData[test_index,:])\n",
        "        allF1Test[index]=mt.f1_score(datos2.iloc[test_index,13],prediccion,pos_label='1')\n",
        "        allRecall[index]=mt.recall_score(datos2.iloc[test_index,13],prediccion,pos_label='1')\n",
        "        allPrecision[index]=mt.precision_score(datos2.iloc[test_index,13],prediccion,pos_label='1')\n",
        "        allAcc[index]=mt.accuracy_score(datos2.iloc[test_index,13],prediccion)\n",
        "        index+=1\n",
        "\n",
        "    allResults.iloc[k-1,0]=allF1Train.mean()\n",
        "    allResults.iloc[k-1,1]=allF1Train.std()\n",
        "    allResults.iloc[k-1,2]=allF1Test.mean()\n",
        "    allResults.iloc[k-1,3]=allF1Test.std()\n",
        "    allResults.iloc[k-1,4]=allRecall.mean()\n",
        "    allResults.iloc[k-1,5]=allRecall.std()    \n",
        "    allResults.iloc[k-1,6]=allPrecision.mean()\n",
        "    allResults.iloc[k-1,7]=allPrecision.std()    \n"
      ],
      "execution_count": 201,
      "outputs": []
    },
    {
      "cell_type": "code",
      "metadata": {
        "id": "JcYEH6aBwVf9",
        "colab": {
          "base_uri": "https://localhost:8080/",
          "height": 300
        },
        "outputId": "dc8e6fea-4128-4735-9595-69a211d72b5a"
      },
      "source": [
        "print('Visualizamos los valores que nos entrego el proceso anterior para los parametros definidos: \\n')\n",
        "allResults"
      ],
      "execution_count": 202,
      "outputs": [
        {
          "output_type": "stream",
          "name": "stdout",
          "text": [
            "Visualizamos los valores que nos entrego el proceso anterior para los parametros definidos: \n",
            "\n"
          ]
        },
        {
          "output_type": "execute_result",
          "data": {
            "text/html": [
              "<div>\n",
              "<style scoped>\n",
              "    .dataframe tbody tr th:only-of-type {\n",
              "        vertical-align: middle;\n",
              "    }\n",
              "\n",
              "    .dataframe tbody tr th {\n",
              "        vertical-align: top;\n",
              "    }\n",
              "\n",
              "    .dataframe thead th {\n",
              "        text-align: right;\n",
              "    }\n",
              "</style>\n",
              "<table border=\"1\" class=\"dataframe\">\n",
              "  <thead>\n",
              "    <tr style=\"text-align: right;\">\n",
              "      <th></th>\n",
              "      <th>meanTrain</th>\n",
              "      <th>stdTrain</th>\n",
              "      <th>meanTest</th>\n",
              "      <th>stdTest</th>\n",
              "      <th>meanRecallTest</th>\n",
              "      <th>stdRecallTest</th>\n",
              "      <th>meanPrecisionTest</th>\n",
              "      <th>stdPrecisionTest</th>\n",
              "      <th>meanAccTest</th>\n",
              "      <th>stdAccTest</th>\n",
              "      <th>ejeX</th>\n",
              "    </tr>\n",
              "  </thead>\n",
              "  <tbody>\n",
              "    <tr>\n",
              "      <th>0</th>\n",
              "      <td>1.000000</td>\n",
              "      <td>0.000000</td>\n",
              "      <td>0.972133</td>\n",
              "      <td>0.000900</td>\n",
              "      <td>0.974089</td>\n",
              "      <td>0.001220</td>\n",
              "      <td>0.970189</td>\n",
              "      <td>0.001721</td>\n",
              "      <td>0.0</td>\n",
              "      <td>0.0</td>\n",
              "      <td>1</td>\n",
              "    </tr>\n",
              "    <tr>\n",
              "      <th>1</th>\n",
              "      <td>0.986922</td>\n",
              "      <td>0.000128</td>\n",
              "      <td>0.968766</td>\n",
              "      <td>0.001178</td>\n",
              "      <td>0.955270</td>\n",
              "      <td>0.002077</td>\n",
              "      <td>0.982653</td>\n",
              "      <td>0.001722</td>\n",
              "      <td>0.0</td>\n",
              "      <td>0.0</td>\n",
              "      <td>2</td>\n",
              "    </tr>\n",
              "    <tr>\n",
              "      <th>2</th>\n",
              "      <td>0.987299</td>\n",
              "      <td>0.000136</td>\n",
              "      <td>0.976147</td>\n",
              "      <td>0.001071</td>\n",
              "      <td>0.982029</td>\n",
              "      <td>0.001324</td>\n",
              "      <td>0.970337</td>\n",
              "      <td>0.001571</td>\n",
              "      <td>0.0</td>\n",
              "      <td>0.0</td>\n",
              "      <td>3</td>\n",
              "    </tr>\n",
              "    <tr>\n",
              "      <th>3</th>\n",
              "      <td>0.985310</td>\n",
              "      <td>0.000117</td>\n",
              "      <td>0.975791</td>\n",
              "      <td>0.000874</td>\n",
              "      <td>0.973342</td>\n",
              "      <td>0.002001</td>\n",
              "      <td>0.978257</td>\n",
              "      <td>0.001505</td>\n",
              "      <td>0.0</td>\n",
              "      <td>0.0</td>\n",
              "      <td>4</td>\n",
              "    </tr>\n",
              "    <tr>\n",
              "      <th>4</th>\n",
              "      <td>0.984798</td>\n",
              "      <td>0.000131</td>\n",
              "      <td>0.977830</td>\n",
              "      <td>0.000719</td>\n",
              "      <td>0.985034</td>\n",
              "      <td>0.001257</td>\n",
              "      <td>0.970733</td>\n",
              "      <td>0.001667</td>\n",
              "      <td>0.0</td>\n",
              "      <td>0.0</td>\n",
              "      <td>5</td>\n",
              "    </tr>\n",
              "    <tr>\n",
              "      <th>5</th>\n",
              "      <td>0.984393</td>\n",
              "      <td>0.000116</td>\n",
              "      <td>0.977171</td>\n",
              "      <td>0.000757</td>\n",
              "      <td>0.978681</td>\n",
              "      <td>0.001209</td>\n",
              "      <td>0.975669</td>\n",
              "      <td>0.001450</td>\n",
              "      <td>0.0</td>\n",
              "      <td>0.0</td>\n",
              "      <td>6</td>\n",
              "    </tr>\n",
              "    <tr>\n",
              "      <th>6</th>\n",
              "      <td>0.983549</td>\n",
              "      <td>0.000143</td>\n",
              "      <td>0.978226</td>\n",
              "      <td>0.000888</td>\n",
              "      <td>0.986755</td>\n",
              "      <td>0.001157</td>\n",
              "      <td>0.969846</td>\n",
              "      <td>0.001442</td>\n",
              "      <td>0.0</td>\n",
              "      <td>0.0</td>\n",
              "      <td>7</td>\n",
              "    </tr>\n",
              "  </tbody>\n",
              "</table>\n",
              "</div>"
            ],
            "text/plain": [
              "   meanTrain  stdTrain  meanTest  ...  meanAccTest  stdAccTest  ejeX\n",
              "0   1.000000  0.000000  0.972133  ...          0.0         0.0     1\n",
              "1   0.986922  0.000128  0.968766  ...          0.0         0.0     2\n",
              "2   0.987299  0.000136  0.976147  ...          0.0         0.0     3\n",
              "3   0.985310  0.000117  0.975791  ...          0.0         0.0     4\n",
              "4   0.984798  0.000131  0.977830  ...          0.0         0.0     5\n",
              "5   0.984393  0.000116  0.977171  ...          0.0         0.0     6\n",
              "6   0.983549  0.000143  0.978226  ...          0.0         0.0     7\n",
              "\n",
              "[7 rows x 11 columns]"
            ]
          },
          "metadata": {},
          "execution_count": 202
        }
      ]
    },
    {
      "cell_type": "markdown",
      "metadata": {
        "id": "f3zPtrLtpojT"
      },
      "source": [
        "Graficamos los resultados."
      ]
    },
    {
      "cell_type": "code",
      "metadata": {
        "colab": {
          "base_uri": "https://localhost:8080/",
          "height": 911
        },
        "id": "Rv5Hi4ROSUa_",
        "outputId": "9551cb63-3265-46a6-b7ed-ea7a5591a190"
      },
      "source": [
        "print(ggplot(allResults)+aes(x=\"ejeX\")+\n",
        " geom_line(aes(y=\"meanTrain\"),color=\"red\")+\n",
        " geom_errorbar(aes(ymin=\"meanTrain-stdTrain\",ymax=\"meanTrain+stdTrain\"),color=\"red\")+\n",
        " geom_line(aes(y=\"meanTest\"),color=\"blue\")+\n",
        " geom_errorbar(aes(ymin=\"meanTest-stdTest\",ymax=\"meanTest+stdTest\"),color=\"blue\")+\n",
        " labs(x=\"valor K\",y=\"F1-score\")\n",
        ")\n",
        "print(ggplot(allResults)+aes(x=\"ejeX\")+\n",
        " geom_line(aes(y=\"meanRecallTest\"),color=\"red\")+\n",
        " geom_line(aes(y=\"meanPrecisionTest\"),color=\"blue\")+\n",
        " labs(x=\"valor K\",y=\"F1-score\")\n",
        ")"
      ],
      "execution_count": 203,
      "outputs": [
        {
          "output_type": "display_data",
          "data": {
            "image/png": "[encoded data removed]",
            "text/plain": [
              "<Figure size 640x480 with 1 Axes>"
            ]
          },
          "metadata": {}
        },
        {
          "output_type": "stream",
          "name": "stdout",
          "text": [
            "<ggplot: (8788655166197)>\n"
          ]
        },
        {
          "output_type": "display_data",
          "data": {
            "image/png": "[encoded data removed]",
            "text/plain": [
              "<Figure size 640x480 with 1 Axes>"
            ]
          },
          "metadata": {}
        },
        {
          "output_type": "stream",
          "name": "stdout",
          "text": [
            "<ggplot: (8788656001957)>\n"
          ]
        }
      ]
    },
    {
      "cell_type": "markdown",
      "metadata": {
        "id": "Y75Yxrd6p2uO"
      },
      "source": [
        "Utilizamos el valor de k que consideramos mejor seleccionando (k=3).\n",
        "\n",
        "Calculamos los tpr, fpr y limites (thresholds).\n",
        "\n",
        "Graficamos la Curva ROC.\n",
        "\n",
        "Calculamos los valores de g-means para los valores de fpr y tpr.\n",
        "\n",
        "Comparamos los resultados."
      ]
    },
    {
      "cell_type": "markdown",
      "metadata": {
        "id": "5GiO3GMIMo6o"
      },
      "source": [
        "Luego de realizada la evaluación para k de 1 a 7 y un Kfold = 10. Podemos observar que el que presenta el equilibrio aceptable entre el promedio de entrenamiento y validación (primer gráfico) es K = 3, además en validación tiene un desviación estandar muy baja.\n",
        "Por otro lado al observar el segundo gráfico de Recall (curva roja) y Precission (curva azul). Dada la naturaleza del problema que es predecir si un asteroide representa una amenaza para la tierra, creemos que es más importante predecir que lo es, cuando en la práctica no lo sea (por el peligro que representa)(FP - Precission), sin embargo, tambien creeemos que es relevante intentar ser lo más asertivos posibles respecto a que tanto predecimos una no amenaza siendo que si lo es (FN - Recall), dado que existe una gran cantidad de asteroides en nuestro universo, lo que haría imposible poder investigar todo dado que los recursos son limitados. Dicho esto creemos que donde tenemos un equilibrio aceptable es en K=3 y K=5. Para esta evaluación escogeremos K=3 dado que la curva precission si bien no es la mejor, es bastante aceptable y la curva recall es igual de aceptable que la anterior, ambas en el punto donde vemos que el promedio de entrenamiento y validación se equilibran. \n"
      ]
    },
    {
      "cell_type": "markdown",
      "metadata": {
        "id": "w_OjFCnCQ_fk"
      },
      "source": [
        "**K = 3**\n",
        "\n",
        "Datos: \n",
        "- 70% Entrenamiento\n",
        "- 30% Validación"
      ]
    },
    {
      "cell_type": "code",
      "metadata": {
        "colab": {
          "base_uri": "https://localhost:8080/",
          "height": 829
        },
        "id": "HuDARYeS1z2G",
        "outputId": "ffa04698-3403-4c5f-bcc3-3f375210f303"
      },
      "source": [
        "from sklearn.model_selection import KFold\n",
        "from sklearn.neighbors import KNeighborsClassifier\n",
        "from sklearn import metrics as mt\n",
        "from sklearn.preprocessing import StandardScaler\n",
        "from sklearn.model_selection import train_test_split\n",
        "\n",
        "KNN= KNeighborsClassifier(n_neighbors=3, weights='uniform')\n",
        "\n",
        "X_train, X_test, y_train, y_test = train_test_split(datos2.iloc[:,:13], datos2.iloc[:,13], test_size=0.30, random_state=0)\n",
        "\n",
        "scaler=StandardScaler()\n",
        "scaler=scaler.fit(X_train)\n",
        "X_train=scaler.transform(X_train)\n",
        "X_test=scaler.transform(X_test)\n",
        "KNN=KNN.fit(X_train,y_train)\n",
        "prediccion=KNN.predict_proba(X_test)\n",
        "prediccionFija=KNN.predict(X_test)\n",
        "\n",
        "\n",
        "from sklearn import metrics as mt\n",
        "fpr, tpr, thresholds = mt.roc_curve(y_test=='1',prediccion[:,1])\n",
        "\n",
        "tempDF=pd.DataFrame(zip(fpr,tpr,thresholds),columns=['FPR','TPR','Limites'])\n",
        "print(tempDF)\n",
        "\n",
        "\n",
        "print(ggplot(tempDF)+ aes(x=fpr, y=tpr)+geom_line(color='red',size=2)+\n",
        "      annotate('segment',x=0,y=0,xend=1,yend=1,color='blue')+\n",
        "      theme_bw()\n",
        ")\n",
        "\n",
        "mt.auc(fpr,tpr)\n",
        "\n",
        "gmeans = np.sqrt(tpr * (1-fpr))\n",
        "ix= np.argmax(gmeans)\n",
        "print('Threshold=%f, Best Threshold=%f, G-Mean=%.3f' % (ix, thresholds[ix], gmeans[ix]))\n",
        "indexThreshold = ix\n",
        "\n",
        "print(\"Valores originales: \")\n",
        "print(\"F1-test: \",mt.f1_score(y_test==\"1\",prediccion[:,1]>=0.5,pos_label=True))\n",
        "print(\"Recall: \",mt.recall_score(y_test==\"1\",prediccion[:,1]>=0.5,pos_label=True))\n",
        "print(\"Precision: \",mt.precision_score(y_test==\"1\",prediccion[:,1]>=0.5,pos_label=True))\n",
        "print(\"Accuracy: \",mt.accuracy_score(y_test==\"1\",prediccion[:,1]>=0.5))\n",
        "\n",
        "print(\"\\nValores nuevo Threshold: \")\n",
        "print(\"F1-test: \",mt.f1_score(y_test==\"1\",prediccion[:,1]>=thresholds[indexThreshold],pos_label=True))\n",
        "print(\"Recall: \",mt.recall_score(y_test==\"1\",prediccion[:,1]>=thresholds[indexThreshold],pos_label=True))\n",
        "print(\"Precision: \",mt.precision_score(y_test==\"1\",prediccion[:,1]>=thresholds[indexThreshold],pos_label=True))\n",
        "print(\"Accuracy: \",mt.accuracy_score(y_test==\"1\",prediccion[:,1]>=thresholds[indexThreshold]))"
      ],
      "execution_count": 208,
      "outputs": [
        {
          "output_type": "stream",
          "name": "stdout",
          "text": [
            "        FPR       TPR   Limites\n",
            "0  0.000000  0.000000  2.000000\n",
            "1  0.107130  0.941373  1.000000\n",
            "2  0.283388  0.983223  0.666667\n",
            "3  0.541079  0.996652  0.333333\n",
            "4  1.000000  1.000000  0.000000\n"
          ]
        },
        {
          "output_type": "stream",
          "name": "stderr",
          "text": [
            "/usr/local/lib/python3.7/dist-packages/matplotlib/text.py:1165: FutureWarning: elementwise comparison failed; returning scalar instead, but in the future will perform elementwise comparison\n",
            "  if s != self._text:\n"
          ]
        },
        {
          "output_type": "display_data",
          "data": {
            "image/png": "[encoded data removed]",
            "text/plain": [
              "<Figure size 640x480 with 1 Axes>"
            ]
          },
          "metadata": {}
        },
        {
          "output_type": "stream",
          "name": "stdout",
          "text": [
            "<ggplot: (8788655048221)>\n",
            "Threshold=1.000000, Best Threshold=1.000000, G-Mean=0.917\n",
            "Valores originales: \n",
            "F1-test:  0.9771887015675835\n",
            "Recall:  0.9832229744810654\n",
            "Precision:  0.9712280443889175\n",
            "Accuracy:  0.9583740934390285\n",
            "\n",
            "Valores nuevo Threshold: \n",
            "F1-test:  0.964331986891243\n",
            "Recall:  0.9413734097165389\n",
            "Precision:  0.9884384032497461\n",
            "Accuracy:  0.9368527576319784\n"
          ]
        }
      ]
    },
    {
      "cell_type": "markdown",
      "metadata": {
        "id": "PwqM8QX9E9lc"
      },
      "source": [
        "Como sabemos el mejor Threshold es aquel que se encuentra mas cercano al punto numero uno del eje \"y\" asociado al plano cartesiano de la curva AUC. En relación a esto podemos verificar que el indice G-Mean que en la practica multiplica la raíz cuadrada de los TP contra 1- FP rate, en otras palabras busca que ambos valores sean altos (True Positive y False Positive), indica que el mejor Threshold se sitúa en el punto 0,931. Con ello podemos ver que nuestros valores tanto de Accuracy, Recall y F1-test asociados a los nuevos valores de Threshold y en contraste de la predicción fija disminuyeron, sin embargo el presicion aumentó lo cual a pesar de que el F1-test haya disminuido, es positivo dado que entendiendo nuestro problema y como comentamos anteriormente en el analisis nos interesa que esta curva aumente."
      ]
    },
    {
      "cell_type": "markdown",
      "metadata": {
        "id": "Eio9Paz5TpPW"
      },
      "source": [
        "**Aplicaremos NB como segundo modelo**\n",
        "\n",
        "Utilizaremos:\n",
        "- GaussianNB\n",
        "- BernoulliNB\n",
        "- MultinomialNB\n",
        "\n",
        "Para evaluar el desempeño de este modelo utilizaremos los datos de la forma que vienen y posteriormente evaluaremos con los datos balanceados."
      ]
    },
    {
      "cell_type": "markdown",
      "metadata": {
        "id": "WCBCIlDuP0S1"
      },
      "source": [
        "Evaluaremos para datos estandarizados:"
      ]
    },
    {
      "cell_type": "code",
      "metadata": {
        "colab": {
          "base_uri": "https://localhost:8080/"
        },
        "id": "PVJjmJuk02B3",
        "outputId": "5e307b0f-ab6e-41b6-d05f-9f038e86c725"
      },
      "source": [
        "from sklearn.model_selection import train_test_split\n",
        "from sklearn.model_selection import cross_val_score\n",
        "from sklearn.model_selection import StratifiedKFold\n",
        "from sklearn.model_selection import KFold\n",
        "from sklearn.preprocessing import StandardScaler\n",
        "from sklearn import metrics as mt\n",
        "from matplotlib import pyplot\n",
        "from sklearn.svm import SVC\n",
        "from sklearn.naive_bayes import GaussianNB\n",
        "from sklearn.naive_bayes import BernoulliNB\n",
        "from sklearn.naive_bayes import MultinomialNB\n",
        "\n",
        "numFolds=10\n",
        "\n",
        "kf = KFold(n_splits=numFolds, shuffle=True, random_state=0)\n",
        "temp = kf.split(datos2)\n",
        "\n",
        "GNB = GaussianNB()\n",
        "\n",
        "allF1Test=np.zeros((numFolds,1))\n",
        "allF1Train=np.zeros((numFolds,1))\n",
        "allAcc=np.zeros((numFolds,1))\n",
        "allRecall=np.zeros((numFolds,1))\n",
        "allPrecision=np.zeros((numFolds,1))\n",
        "\n",
        "scaler = StandardScaler()\n",
        "\n",
        "\n",
        "index=0 \n",
        "for train_index, test_index in temp:\n",
        "    scaler = scaler.fit(datos2.iloc[train_index,:13]) \n",
        "    numericData = scaler.transform(datos2.iloc[:,:13])\n",
        "    GNB = GNB.fit(numericData[train_index,:],datos2.iloc[train_index,13])\n",
        "    prediccion=GNB.predict(numericData[train_index,:])    \n",
        "    allF1Train[index]=mt.f1_score(datos2.iloc[train_index,13],prediccion,pos_label='1') \n",
        "    prediccion=GNB.predict(numericData[test_index,:])\n",
        "    allF1Test[index]=mt.f1_score(datos2.iloc[test_index,13],prediccion,pos_label='1')\n",
        "    allRecall[index]=mt.recall_score(datos2.iloc[test_index,13],prediccion,pos_label='1')\n",
        "    allPrecision[index]=mt.precision_score(datos2.iloc[test_index,13],prediccion,pos_label='1')\n",
        "    allAcc[index]=mt.accuracy_score(datos2.iloc[test_index,13],prediccion)\n",
        "    index+=1\n",
        "\n",
        "print('Valores para datos no balanceados GaussianNB:')\n",
        "print(\"Average F1-score train: \",allF1Train.mean(),\"+-\",allF1Train.std())\n",
        "print(\"Average F1-score test: \",allF1Test.mean(),\"+-\",allF1Test.std())\n",
        "print(\"Average recall test: \",allRecall.mean(),\"+-\",allRecall.std())\n",
        "print(\"Average precision test: \",allPrecision.mean(),\"+-\",allPrecision.std())\n",
        "print(\"Average accuracy test: \",allAcc.mean(),\"+-\",allAcc.std())"
      ],
      "execution_count": 205,
      "outputs": [
        {
          "output_type": "stream",
          "name": "stdout",
          "text": [
            "Valores para datos no balanceados GaussianNB:\n",
            "Average F1-score train:  0.7603257493034066 +- 0.010706645422147965\n",
            "Average F1-score test:  0.7603064725857516 +- 0.009460454872236176\n",
            "Average recall test:  0.6153621691920337 +- 0.012765861550351476\n",
            "Average precision test:  0.994849486667355 +- 0.0011749244550769066\n",
            "Average accuracy test:  0.6485959040900826 +- 0.011124550116965351\n"
          ]
        }
      ]
    },
    {
      "cell_type": "code",
      "metadata": {
        "colab": {
          "base_uri": "https://localhost:8080/"
        },
        "id": "nXF6yVN-01-2",
        "outputId": "834ae6b1-22ef-4ab7-f207-7af029266ec1"
      },
      "source": [
        "numFolds=10\n",
        "\n",
        "kf = KFold(n_splits=numFolds, shuffle=True, random_state=0)\n",
        "temp = kf.split(datos2)\n",
        "\n",
        "BNB = BernoulliNB()\n",
        "\n",
        "allF1Test=np.zeros((numFolds,1))\n",
        "allF1Train=np.zeros((numFolds,1))\n",
        "allAcc=np.zeros((numFolds,1))\n",
        "allRecall=np.zeros((numFolds,1))\n",
        "allPrecision=np.zeros((numFolds,1))\n",
        "\n",
        "scaler = StandardScaler()\n",
        "\n",
        "\n",
        "index=0 \n",
        "for train_index, test_index in temp:\n",
        "    scaler = scaler.fit(datos2.iloc[train_index,:13]) \n",
        "    numericData = scaler.transform(datos2.iloc[:,:13])\n",
        "    BNB = BNB.fit(datos2.iloc[train_index,:13],datos2.iloc[train_index,13])\n",
        "    prediccion=BNB.predict(datos2.iloc[train_index,:13])    \n",
        "    allF1Train[index]=mt.f1_score(datos2.iloc[train_index,13],prediccion,pos_label='1') \n",
        "    prediccion=BNB.predict(datos2.iloc[test_index,:13])\n",
        "    allF1Test[index]=mt.f1_score(datos2.iloc[test_index,13],prediccion,pos_label='1')\n",
        "    allRecall[index]=mt.recall_score(datos2.iloc[test_index,13],prediccion,pos_label='1')\n",
        "    allPrecision[index]=mt.precision_score(datos2.iloc[test_index,13],prediccion,pos_label='1')\n",
        "    allAcc[index]=mt.accuracy_score(datos2.iloc[test_index,13],prediccion)\n",
        "    index+=1\n",
        "\n",
        "print('Valores para datos no balanceados BernoulliNB:')\n",
        "print(\"Average F1-score train: \",allF1Train.mean(),\"+-\",allF1Train.std())\n",
        "print(\"Average F1-score test: \",allF1Test.mean(),\"+-\",allF1Test.std())\n",
        "print(\"Average recall test: \",allRecall.mean(),\"+-\",allRecall.std())\n",
        "print(\"Average precision test: \",allPrecision.mean(),\"+-\",allPrecision.std())\n",
        "print(\"Average accuracy test: \",allAcc.mean(),\"+-\",allAcc.std())\n",
        "\n"
      ],
      "execution_count": 209,
      "outputs": [
        {
          "output_type": "stream",
          "name": "stdout",
          "text": [
            "Valores para datos no balanceados BernoulliNB:\n",
            "Average F1-score train:  0.9507244432191937 +- 0.00010180031190567975\n",
            "Average F1-score test:  0.9507236602494917 +- 0.0009158677974448939\n",
            "Average recall test:  1.0 +- 0.0\n",
            "Average precision test:  0.9060770251604291 +- 0.0016642611410632709\n",
            "Average accuracy test:  0.9060770251604291 +- 0.0016642611410632709\n"
          ]
        }
      ]
    },
    {
      "cell_type": "code",
      "metadata": {
        "colab": {
          "base_uri": "https://localhost:8080/"
        },
        "id": "9SxE8WrQrDVQ",
        "outputId": "cc6389dd-8c94-4c97-9779-1e6e43eed3ea"
      },
      "source": [
        "numFolds=10\n",
        "\n",
        "kf = KFold(n_splits=numFolds, shuffle=True, random_state=0)\n",
        "temp = kf.split(datos2)\n",
        "\n",
        "MNB = MultinomialNB()\n",
        "\n",
        "allF1Test=np.zeros((numFolds,1))\n",
        "allF1Train=np.zeros((numFolds,1))\n",
        "allAcc=np.zeros((numFolds,1))\n",
        "allRecall=np.zeros((numFolds,1))\n",
        "allPrecision=np.zeros((numFolds,1))\n",
        "\n",
        "scaler = StandardScaler()\n",
        "\n",
        "\n",
        "index=0 \n",
        "for train_index, test_index in temp:\n",
        "    scaler = scaler.fit(datos2.iloc[train_index,:13]) \n",
        "    numericData = scaler.transform(datos2.iloc[:,:13])\n",
        "    MNB = MNB.fit(datos2.iloc[train_index,:13],datos2.iloc[train_index,13])\n",
        "    prediccion=MNB.predict(datos2.iloc[train_index,:13])    \n",
        "    allF1Train[index]=mt.f1_score(datos2.iloc[train_index,13],prediccion,pos_label='1') \n",
        "    prediccion=MNB.predict(datos2.iloc[test_index,:13])\n",
        "    allF1Test[index]=mt.f1_score(datos2.iloc[test_index,13],prediccion,pos_label='1')\n",
        "    allRecall[index]=mt.recall_score(datos2.iloc[test_index,13],prediccion,pos_label='1')\n",
        "    allPrecision[index]=mt.precision_score(datos2.iloc[test_index,13],prediccion,pos_label='1')\n",
        "    allAcc[index]=mt.accuracy_score(datos2.iloc[test_index,13],prediccion)\n",
        "    index+=1\n",
        "\n",
        "print('Valores para datos no balanceados MultinomialNB:')\n",
        "print(\"Average F1-score train: \",allF1Train.mean(),\"+-\",allF1Train.std())\n",
        "print(\"Average F1-score test: \",allF1Test.mean(),\"+-\",allF1Test.std())\n",
        "print(\"Average recall test: \",allRecall.mean(),\"+-\",allRecall.std())\n",
        "print(\"Average precision test: \",allPrecision.mean(),\"+-\",allPrecision.std())\n",
        "print(\"Average accuracy test: \",allAcc.mean(),\"+-\",allAcc.std())"
      ],
      "execution_count": 210,
      "outputs": [
        {
          "output_type": "stream",
          "name": "stdout",
          "text": [
            "Valores para datos no balanceados MultinomialNB:\n",
            "Average F1-score train:  0.6819665150509999 +- 0.0010041075465265102\n",
            "Average F1-score test:  0.6820534138575175 +- 0.003251624693791725\n",
            "Average recall test:  0.535485234409174 +- 0.0037305900445155312\n",
            "Average precision test:  0.9391210980926115 +- 0.002421245774422483\n",
            "Average accuracy test:  0.5476597537820076 +- 0.0038673776213608733\n"
          ]
        }
      ]
    },
    {
      "cell_type": "markdown",
      "metadata": {
        "id": "MbHhHH8wP5sJ"
      },
      "source": [
        "Ahora evaluaremos para datos balanceados"
      ]
    },
    {
      "cell_type": "code",
      "metadata": {
        "colab": {
          "base_uri": "https://localhost:8080/",
          "height": 204
        },
        "id": "QXPZqMaoP9rz",
        "outputId": "4c893f9c-a6ac-494f-9df8-fb21ca099fc4"
      },
      "source": [
        "datos2['Danger'] = datos2['Danger'].astype(str)\n",
        "etiqueta= datos2.iloc[:,13]\n",
        "balan=datos2.iloc[:,:13]\n",
        "balan.head(5)"
      ],
      "execution_count": 211,
      "outputs": [
        {
          "output_type": "execute_result",
          "data": {
            "text/html": [
              "<div>\n",
              "<style scoped>\n",
              "    .dataframe tbody tr th:only-of-type {\n",
              "        vertical-align: middle;\n",
              "    }\n",
              "\n",
              "    .dataframe tbody tr th {\n",
              "        vertical-align: top;\n",
              "    }\n",
              "\n",
              "    .dataframe thead th {\n",
              "        text-align: right;\n",
              "    }\n",
              "</style>\n",
              "<table border=\"1\" class=\"dataframe\">\n",
              "  <thead>\n",
              "    <tr style=\"text-align: right;\">\n",
              "      <th></th>\n",
              "      <th>a</th>\n",
              "      <th>e</th>\n",
              "      <th>i</th>\n",
              "      <th>om</th>\n",
              "      <th>w</th>\n",
              "      <th>q</th>\n",
              "      <th>ad</th>\n",
              "      <th>per_y</th>\n",
              "      <th>data_arc</th>\n",
              "      <th>n_obs_used</th>\n",
              "      <th>H</th>\n",
              "      <th>albedo</th>\n",
              "      <th>moid</th>\n",
              "    </tr>\n",
              "  </thead>\n",
              "  <tbody>\n",
              "    <tr>\n",
              "      <th>0</th>\n",
              "      <td>3.069911</td>\n",
              "      <td>0.096918</td>\n",
              "      <td>10.633999</td>\n",
              "      <td>344.778698</td>\n",
              "      <td>248.285216</td>\n",
              "      <td>2.772381</td>\n",
              "      <td>3.367440</td>\n",
              "      <td>5.378941</td>\n",
              "      <td>17571.0</td>\n",
              "      <td>902</td>\n",
              "      <td>14.0</td>\n",
              "      <td>0.243</td>\n",
              "      <td>1.78504</td>\n",
              "    </tr>\n",
              "    <tr>\n",
              "      <th>1</th>\n",
              "      <td>3.126769</td>\n",
              "      <td>0.101765</td>\n",
              "      <td>14.228075</td>\n",
              "      <td>93.358911</td>\n",
              "      <td>74.972094</td>\n",
              "      <td>2.808575</td>\n",
              "      <td>3.444963</td>\n",
              "      <td>5.529068</td>\n",
              "      <td>6793.0</td>\n",
              "      <td>1128</td>\n",
              "      <td>13.6</td>\n",
              "      <td>0.061</td>\n",
              "      <td>1.85923</td>\n",
              "    </tr>\n",
              "    <tr>\n",
              "      <th>2</th>\n",
              "      <td>3.240195</td>\n",
              "      <td>0.114902</td>\n",
              "      <td>13.278967</td>\n",
              "      <td>230.808838</td>\n",
              "      <td>255.060949</td>\n",
              "      <td>2.867890</td>\n",
              "      <td>3.612501</td>\n",
              "      <td>5.832637</td>\n",
              "      <td>5367.0</td>\n",
              "      <td>246</td>\n",
              "      <td>15.4</td>\n",
              "      <td>0.028</td>\n",
              "      <td>1.92025</td>\n",
              "    </tr>\n",
              "    <tr>\n",
              "      <th>3</th>\n",
              "      <td>3.118650</td>\n",
              "      <td>0.062830</td>\n",
              "      <td>8.379401</td>\n",
              "      <td>225.435675</td>\n",
              "      <td>212.341581</td>\n",
              "      <td>2.922706</td>\n",
              "      <td>3.314594</td>\n",
              "      <td>5.507545</td>\n",
              "      <td>8046.0</td>\n",
              "      <td>978</td>\n",
              "      <td>14.1</td>\n",
              "      <td>0.136</td>\n",
              "      <td>1.94124</td>\n",
              "    </tr>\n",
              "    <tr>\n",
              "      <th>4</th>\n",
              "      <td>3.032740</td>\n",
              "      <td>0.104018</td>\n",
              "      <td>3.158993</td>\n",
              "      <td>315.183440</td>\n",
              "      <td>183.530613</td>\n",
              "      <td>2.717281</td>\n",
              "      <td>3.348198</td>\n",
              "      <td>5.281544</td>\n",
              "      <td>21144.0</td>\n",
              "      <td>373</td>\n",
              "      <td>15.5</td>\n",
              "      <td>0.046</td>\n",
              "      <td>1.73110</td>\n",
              "    </tr>\n",
              "  </tbody>\n",
              "</table>\n",
              "</div>"
            ],
            "text/plain": [
              "          a         e          i          om  ...  n_obs_used     H  albedo     moid\n",
              "0  3.069911  0.096918  10.633999  344.778698  ...         902  14.0   0.243  1.78504\n",
              "1  3.126769  0.101765  14.228075   93.358911  ...        1128  13.6   0.061  1.85923\n",
              "2  3.240195  0.114902  13.278967  230.808838  ...         246  15.4   0.028  1.92025\n",
              "3  3.118650  0.062830   8.379401  225.435675  ...         978  14.1   0.136  1.94124\n",
              "4  3.032740  0.104018   3.158993  315.183440  ...         373  15.5   0.046  1.73110\n",
              "\n",
              "[5 rows x 13 columns]"
            ]
          },
          "metadata": {},
          "execution_count": 211
        }
      ]
    },
    {
      "cell_type": "code",
      "metadata": {
        "colab": {
          "base_uri": "https://localhost:8080/"
        },
        "id": "G-YB--dsQZfh",
        "outputId": "0be58dcd-b37c-49c7-ab85-492c4480f25c"
      },
      "source": [
        "numK= 10\n",
        "kf = KFold(n_splits=numK, shuffle=True, random_state=0)\n",
        "errorTrain= np.zeros(numK)\n",
        "errorTest= np.zeros(numK)\n",
        "\n",
        "#Creamos el objeto\n",
        "GNB = GaussianNB()\n",
        "i=0\n",
        "\n",
        "#Aplicamos la función split del Kfold para separar los datos\n",
        "for train_index, test_index in kf.split(datos2.iloc[:,:13]):\n",
        "    #extraiga los datos de entrenamiento y test\n",
        "    trainData=balan.iloc[train_index,:]\n",
        "    trainLabel=etiqueta.iloc[train_index]\n",
        "    testData=balan.iloc[test_index,:]\n",
        "    testLabel=etiqueta.iloc[test_index]\n",
        "    #Balanceando los datos\n",
        "    unos=trainData[trainLabel==\"1\"]\n",
        "    ceros=trainData[trainLabel==\"0\"]\n",
        "    #Uso sample para igualar la cantidad de ceros a la de unos\n",
        "    unos=unos.sample(ceros.shape[0])\n",
        "    #Generamos un nuevo set de datos de entrenamiento\n",
        "    trainData=ceros.append(unos)\n",
        "    #Generando los nuevos labels\n",
        "    trainLabel=pd.Series([\"0\"]*unos.shape[0]+[\"1\"]*unos.shape[0])\n",
        "        \n",
        "    #Entrenamos el modelo\n",
        "    GNB= GNB.fit(trainData,trainLabel)\n",
        "    #Prediciendo \n",
        "    prediccion=GNB.predict(trainData)\n",
        "    #Calculando el error de entrenamiento\n",
        "    errorTrain[i]=mt.f1_score(trainLabel,prediccion,pos_label=\"1\")\n",
        "    #Prediciendo los valores de testData\n",
        "    prediccion=GNB.predict(testData)\n",
        "    #Calculando el error de test\n",
        "    errorTest[i]=mt.f1_score(testLabel,prediccion,pos_label=\"1\")\n",
        "    i+=1\n",
        "\n",
        "print(\"F1-score del modelo para training: \",errorTrain.mean(),\"+-\",errorTrain.std())\n",
        "print(\"F1-score del modelo para test: \",errorTest.mean(),\"+-\",errorTest.std())"
      ],
      "execution_count": 212,
      "outputs": [
        {
          "output_type": "stream",
          "name": "stdout",
          "text": [
            "F1-score del modelo para training:  0.7401416368879022 +- 0.07860455609826189\n",
            "F1-score del modelo para test:  0.7561893343447987 +- 0.08129419451881706\n"
          ]
        }
      ]
    },
    {
      "cell_type": "code",
      "metadata": {
        "colab": {
          "base_uri": "https://localhost:8080/"
        },
        "id": "dZjWkbc9Uy-K",
        "outputId": "12fd91e1-943f-47d8-edb4-104975dd5fde"
      },
      "source": [
        "#importando todas las métricas\n",
        "from sklearn import metrics as mt\n",
        "\n",
        "#Promedio\n",
        "print(\"Recall del modelo para cada clase:\",mt.recall_score(testLabel,prediccion,labels=[0,1],average=None)) \n",
        "print(\"Precision del modelo:\",mt.precision_score(testLabel,prediccion,pos_label=\"1\"))\n",
        "print(\"Accuracy del modelo para test:\",mt.accuracy_score(testLabel,prediccion))"
      ],
      "execution_count": 213,
      "outputs": [
        {
          "output_type": "stream",
          "name": "stdout",
          "text": [
            "Recall del modelo para cada clase: [0.95493562 0.7181808 ]\n",
            "Precision del modelo: 0.9935074972947905\n",
            "Accuracy del modelo para test: 0.7405120939176196\n"
          ]
        },
        {
          "output_type": "stream",
          "name": "stderr",
          "text": [
            "/usr/local/lib/python3.7/dist-packages/numpy/lib/arraysetops.py:576: FutureWarning: elementwise comparison failed; returning scalar instead, but in the future will perform elementwise comparison\n",
            "  mask &= (ar1 != a)\n"
          ]
        }
      ]
    },
    {
      "cell_type": "code",
      "metadata": {
        "colab": {
          "base_uri": "https://localhost:8080/"
        },
        "id": "aN1YzLyCSovV",
        "outputId": "9aa16cec-f0c1-4787-cbe1-0404946d5570"
      },
      "source": [
        "numK= 10\n",
        "kf = KFold(n_splits=numK, shuffle=True, random_state=0)\n",
        "errorTrain= np.zeros(numK)\n",
        "errorTest= np.zeros(numK)\n",
        "\n",
        "#Creamos el objeto de Naive Bayes con el alpha deseado\n",
        "BNB = BernoulliNB(alpha=1)\n",
        "i=0\n",
        "\n",
        "#Aplicamos la función split del Kfold para separar los datos\n",
        "for train_index, test_index in kf.split(datos2.iloc[:,:13]):\n",
        "    #extraiga los datos de entrenamiento y test\n",
        "    trainData=balan.iloc[train_index,:]\n",
        "    trainLabel=etiqueta.iloc[train_index]\n",
        "    testData=balan.iloc[test_index,:]\n",
        "    testLabel=etiqueta.iloc[test_index]\n",
        "    #Balanceando los datos\n",
        "    unos=trainData[trainLabel==\"1\"]\n",
        "    ceros=trainData[trainLabel==\"0\"]\n",
        "    #Uso sample para igualar la cantidad de ceros a la de unos\n",
        "    unos=unos.sample(ceros.shape[0])\n",
        "    #Generamos un nuevo set de datos de entrenamiento\n",
        "    trainData=ceros.append(unos)\n",
        "    #Generando los nuevos labels\n",
        "    trainLabel=pd.Series([\"0\"]*unos.shape[0]+[\"1\"]*unos.shape[0])\n",
        "        \n",
        "    #Entrenamos el modelo\n",
        "    BNB= BNB.fit(trainData,trainLabel)\n",
        "    #Prediciendo \n",
        "    prediccion=BNB.predict(trainData)\n",
        "    #Calculando el error de entrenamiento\n",
        "    errorTrain[i]=mt.f1_score(trainLabel,prediccion,pos_label=\"1\")\n",
        "    #Prediciendo los valores de testData\n",
        "    prediccion=BNB.predict(testData)\n",
        "    #Calculando el error de test\n",
        "    errorTest[i]=mt.f1_score(testLabel,prediccion,pos_label=\"1\")\n",
        "    i+=1\n",
        "\n",
        "print(\"F1-score del modelo para training: \",errorTrain.mean(),\"+-\",errorTrain.std())\n",
        "print(\"F1-score del modelo para test: \",errorTest.mean(),\"+-\",errorTest.std())    "
      ],
      "execution_count": 214,
      "outputs": [
        {
          "output_type": "stream",
          "name": "stdout",
          "text": [
            "F1-score del modelo para training:  0.0 +- 0.0\n",
            "F1-score del modelo para test:  0.0 +- 0.0\n"
          ]
        }
      ]
    },
    {
      "cell_type": "code",
      "metadata": {
        "colab": {
          "base_uri": "https://localhost:8080/"
        },
        "id": "QUUvNwWxU5ZR",
        "outputId": "2d2d72ca-907d-4ef5-d804-af15e1717142"
      },
      "source": [
        "#importando todas las métricas\n",
        "from sklearn import metrics as mt\n",
        "\n",
        "#Promedio\n",
        "print(\"Recall del modelo para cada clase:\",mt.recall_score(testLabel,prediccion,labels=[0,1],average=None)) \n",
        "print(\"Precision del modelo:\",mt.precision_score(testLabel,prediccion,pos_label=\"1\"))\n",
        "print(\"Accuracy del modelo para test:\",mt.accuracy_score(testLabel,prediccion))"
      ],
      "execution_count": 215,
      "outputs": [
        {
          "output_type": "stream",
          "name": "stdout",
          "text": [
            "Recall del modelo para cada clase: [1. 0.]\n",
            "Precision del modelo: 0.0\n",
            "Accuracy del modelo para test: 0.09432243700030361\n"
          ]
        },
        {
          "output_type": "stream",
          "name": "stderr",
          "text": [
            "/usr/local/lib/python3.7/dist-packages/numpy/lib/arraysetops.py:576: FutureWarning: elementwise comparison failed; returning scalar instead, but in the future will perform elementwise comparison\n",
            "  mask &= (ar1 != a)\n",
            "/usr/local/lib/python3.7/dist-packages/sklearn/metrics/_classification.py:1272: UndefinedMetricWarning: Precision is ill-defined and being set to 0.0 due to no predicted samples. Use `zero_division` parameter to control this behavior.\n",
            "  _warn_prf(average, modifier, msg_start, len(result))\n"
          ]
        }
      ]
    },
    {
      "cell_type": "code",
      "metadata": {
        "colab": {
          "base_uri": "https://localhost:8080/"
        },
        "id": "XpDal_7hUHOZ",
        "outputId": "1ae47bf0-5112-4d70-9578-9d1cc987d80d"
      },
      "source": [
        "numK= 10\n",
        "kf = KFold(n_splits=numK, shuffle=True, random_state=0)\n",
        "errorTrain= np.zeros(numK)\n",
        "errorTest= np.zeros(numK)\n",
        "\n",
        "#Creamos el objeto\n",
        "MNB = MultinomialNB(alpha=1)\n",
        "i=0\n",
        "\n",
        "#Aplicamos la función split del Kfold para separar los datos\n",
        "for train_index, test_index in kf.split(datos2.iloc[:,:13]):\n",
        "    #extraiga los datos de entrenamiento y test\n",
        "    trainData=balan.iloc[train_index,:]\n",
        "    trainLabel=etiqueta.iloc[train_index]\n",
        "    testData=balan.iloc[test_index,:]\n",
        "    testLabel=etiqueta.iloc[test_index]\n",
        "    #Balanceando los datos\n",
        "    unos=trainData[trainLabel==\"1\"]\n",
        "    ceros=trainData[trainLabel==\"0\"]\n",
        "    #Uso sample para igualar la cantidad de ceros a la de unos\n",
        "    unos=unos.sample(ceros.shape[0])\n",
        "    #Generamos un nuevo set de datos de entrenamiento\n",
        "    trainData=ceros.append(unos)\n",
        "    #Generando los nuevos labels\n",
        "    trainLabel=pd.Series([\"0\"]*unos.shape[0]+[\"1\"]*unos.shape[0])\n",
        "        \n",
        "    #Entrenamos el modelo\n",
        "    MNB= MNB.fit(trainData,trainLabel)\n",
        "    #Prediciendo \n",
        "    prediccion=MNB.predict(trainData)\n",
        "    #Calculando el error de entrenamiento\n",
        "    errorTrain[i]=mt.f1_score(trainLabel,prediccion,pos_label=\"1\")\n",
        "    #Prediciendo los valores de testData\n",
        "    prediccion=MNB.predict(testData)\n",
        "    #Calculando el error de test\n",
        "    errorTest[i]=mt.f1_score(testLabel,prediccion,pos_label=\"1\")\n",
        "    i+=1\n",
        "\n",
        "print(\"F1-score del modelo para training: \",errorTrain.mean(),\"+-\",errorTrain.std())\n",
        "print(\"F1-score del modelo para test: \",errorTest.mean(),\"+-\",errorTest.std())"
      ],
      "execution_count": 216,
      "outputs": [
        {
          "output_type": "stream",
          "name": "stdout",
          "text": [
            "F1-score del modelo para training:  0.5699204553728543 +- 0.003643430520758562\n",
            "F1-score del modelo para test:  0.6770308772344561 +- 0.0029584647140106996\n"
          ]
        }
      ]
    },
    {
      "cell_type": "code",
      "metadata": {
        "colab": {
          "base_uri": "https://localhost:8080/"
        },
        "id": "oRgXtRiMVCPo",
        "outputId": "900e1fd2-fd4d-48a5-bece-076159b24c44"
      },
      "source": [
        "#importando todas las métricas\n",
        "from sklearn import metrics as mt\n",
        "\n",
        "#Promedio\n",
        "print(\"Recall del modelo para cada clase:\",mt.recall_score(testLabel,prediccion,labels=[0,1],average=None)) \n",
        "print(\"Precision del modelo:\",mt.precision_score(testLabel,prediccion,pos_label=\"1\"))\n",
        "print(\"Accuracy del modelo para test:\",mt.accuracy_score(testLabel,prediccion))"
      ],
      "execution_count": 217,
      "outputs": [
        {
          "output_type": "stream",
          "name": "stdout",
          "text": [
            "Recall del modelo para cada clase: [0.65128755 0.53212649]\n",
            "Precision del modelo: 0.9361116571653234\n",
            "Accuracy del modelo para test: 0.5433660560671997\n"
          ]
        },
        {
          "output_type": "stream",
          "name": "stderr",
          "text": [
            "/usr/local/lib/python3.7/dist-packages/numpy/lib/arraysetops.py:576: FutureWarning: elementwise comparison failed; returning scalar instead, but in the future will perform elementwise comparison\n",
            "  mask &= (ar1 != a)\n"
          ]
        }
      ]
    },
    {
      "cell_type": "markdown",
      "metadata": {
        "id": "jpsBSuEtqO5R"
      },
      "source": [
        "Al terminar la evaluación de Naive Bayes, utilizando Gaussian, Bernoulli y Multinomial podemos concluir lo siguiente:\n",
        "\n",
        "- Al estandarizar los valores del dataset el modelo que presenta una mejor performance es Bernoulli con un F1 Test de 0.95, Precision de 0.90 y Accuracy de 0.90.\n",
        "- Sin embargo, al balancear los datos, es decir, igualar la cantidad de \"0\" al total de \"1\" del dataset, el modelo que presenta la mejor performance es Gaussian con un F1 Test de 0.75, Precision de 0.99 y Accuracy de 0.68.\n",
        "- Ambas modalidades fueron evaluadas con kfold=10\n",
        "- En resumen, podemos concluir que el modelo que presento la mejor performance para NB es Bernoulli con datos estandarizados."
      ]
    },
    {
      "cell_type": "markdown",
      "metadata": {
        "id": "MjsFke2msLCb"
      },
      "source": [
        "# **Conclusión Selección Modelo**\n",
        "\n",
        "Evaluados los modelos de KNN y NB dada la metodología presentada en clases y estudiada del material de apoyo, consideramos que el modelo que mejor puede predecir los datos que tenemos, dada la complejidad del problema es KNN, esto dado que despues de hecho el analisis de cada uno de ellos, presenta los mejores parametros (bajo nuestro criterio) en F1 Test, Precision y Accuracy. Los cuales dada la naturaleza del problema que es predecir posibles amenazas para la tierra, creemos que podría entregar mayor certeza al momento de seguir investigando. "
      ]
    },
    {
      "cell_type": "markdown",
      "metadata": {
        "id": "5d8kFC8tBcl2"
      },
      "source": [
        "# 3. Seleccion del Modelo\n",
        "Seleccionamos el modelo KNN debido a los scores entregados son mas relevantes y pueden ayudarnos a predecir de mejor manera los datos a evaluar con la variable Danger.\n",
        "\n",
        "Paso 1 se procede a cargar la data tarea2Evaluar.csv "
      ]
    },
    {
      "cell_type": "code",
      "metadata": {
        "id": "tdFexjInNsi4",
        "colab": {
          "base_uri": "https://localhost:8080/"
        },
        "outputId": "b6c3c025-43ad-491a-b50e-a7f8fab6f39c"
      },
      "source": [
        "datos_eva = pd.read_csv(\"tarea2Evaluar.csv\") \n",
        "print(datos_eva.columns)\n",
        "print(datos_eva.head())\n",
        "print(datos_eva.info())\n",
        "# Cantidad de registros\n",
        "print(\"cantidad de registros\", datos_eva.count())"
      ],
      "execution_count": 218,
      "outputs": [
        {
          "output_type": "stream",
          "name": "stdout",
          "text": [
            "Index(['full_name', 'a', 'e', 'G', 'i', 'om', 'w', 'q', 'ad', 'per_y',\n",
            "       'data_arc', 'condition_code', 'n_obs_used', 'H', 'extent', 'albedo',\n",
            "       'rot_per', 'GM', 'BV', 'UB', 'IR', 'spec_B', 'spec_T', 'neo', 'pha',\n",
            "       'moid'],\n",
            "      dtype='object')\n",
            "   full_name         a         e     G  ...  spec_T  neo  pha      moid\n",
            "0      Irene  2.585567  0.166582   NaN  ...       S    N    N  1.179660\n",
            "1     Thetis  2.470354  0.133032   NaN  ...       S    N    N  1.129810\n",
            "2  Melpomene  2.296654  0.217674  0.25  ...       S    N    N  0.813258\n",
            "3   Kalliope  2.914849  0.097677  0.21  ...       M    N    N  1.643210\n",
            "4    Phocaea  2.400161  0.254614   NaN  ...       S    N    N  0.923495\n",
            "\n",
            "[5 rows x 26 columns]\n",
            "<class 'pandas.core.frame.DataFrame'>\n",
            "RangeIndex: 37681 entries, 0 to 37680\n",
            "Data columns (total 26 columns):\n",
            " #   Column          Non-Null Count  Dtype  \n",
            "---  ------          --------------  -----  \n",
            " 0   full_name       37681 non-null  object \n",
            " 1   a               37681 non-null  float64\n",
            " 2   e               37681 non-null  float64\n",
            " 3   G               36 non-null     float64\n",
            " 4   i               37681 non-null  float64\n",
            " 5   om              37681 non-null  float64\n",
            " 6   w               37681 non-null  float64\n",
            " 7   q               37681 non-null  float64\n",
            " 8   ad              37681 non-null  float64\n",
            " 9   per_y           37681 non-null  float64\n",
            " 10  data_arc        37639 non-null  float64\n",
            " 11  condition_code  37681 non-null  int64  \n",
            " 12  n_obs_used      37681 non-null  int64  \n",
            " 13  H               37480 non-null  float64\n",
            " 14  extent          5 non-null      object \n",
            " 15  albedo          37343 non-null  float64\n",
            " 16  rot_per         3086 non-null   float64\n",
            " 17  GM              3 non-null      float64\n",
            " 18  BV              296 non-null    float64\n",
            " 19  UB              283 non-null    float64\n",
            " 20  IR              0 non-null      float64\n",
            " 21  spec_B          381 non-null    object \n",
            " 22  spec_T          275 non-null    object \n",
            " 23  neo             37681 non-null  object \n",
            " 24  pha             37681 non-null  object \n",
            " 25  moid            37681 non-null  float64\n",
            "dtypes: float64(18), int64(2), object(6)\n",
            "memory usage: 7.5+ MB\n",
            "None\n",
            "cantidad de registros full_name         37681\n",
            "a                 37681\n",
            "e                 37681\n",
            "G                    36\n",
            "i                 37681\n",
            "om                37681\n",
            "w                 37681\n",
            "q                 37681\n",
            "ad                37681\n",
            "per_y             37681\n",
            "data_arc          37639\n",
            "condition_code    37681\n",
            "n_obs_used        37681\n",
            "H                 37480\n",
            "extent                5\n",
            "albedo            37343\n",
            "rot_per            3086\n",
            "GM                    3\n",
            "BV                  296\n",
            "UB                  283\n",
            "IR                    0\n",
            "spec_B              381\n",
            "spec_T              275\n",
            "neo               37681\n",
            "pha               37681\n",
            "moid              37681\n",
            "dtype: int64\n"
          ]
        },
        {
          "output_type": "stream",
          "name": "stderr",
          "text": [
            "/usr/local/lib/python3.7/dist-packages/IPython/core/interactiveshell.py:2718: DtypeWarning: Columns (14,21,22) have mixed types.Specify dtype option on import or set low_memory=False.\n",
            "  interactivity=interactivity, compiler=compiler, result=result)\n"
          ]
        }
      ]
    },
    {
      "cell_type": "markdown",
      "metadata": {
        "id": "Xg2eh9jPCmTE"
      },
      "source": [
        "Verificamos la cantidad de datos nulos que posee cada columna de la BD. Posteriormente verificamos la cantidad de registros unicos que poseen los campos para tener una mayor aproximación y entendimiento de ellos."
      ]
    },
    {
      "cell_type": "code",
      "metadata": {
        "colab": {
          "base_uri": "https://localhost:8080/"
        },
        "id": "YTtXRHrRCohM",
        "outputId": "941146c8-532b-4c97-90b7-c3cd494cbe3b"
      },
      "source": [
        "print(\"Valores nulos totales:\")\n",
        "print(datos_eva.isnull().sum())\n",
        "print('______________ \\n')\n",
        "print(\"Porcentaje de valores nulos totales:\")\n",
        "print(datos_eva.isnull().sum() / len(datos) * 100)"
      ],
      "execution_count": 219,
      "outputs": [
        {
          "output_type": "stream",
          "name": "stdout",
          "text": [
            "Valores nulos totales:\n",
            "full_name             0\n",
            "a                     0\n",
            "e                     0\n",
            "G                 37645\n",
            "i                     0\n",
            "om                    0\n",
            "w                     0\n",
            "q                     0\n",
            "ad                    0\n",
            "per_y                 0\n",
            "data_arc             42\n",
            "condition_code        0\n",
            "n_obs_used            0\n",
            "H                   201\n",
            "extent            37676\n",
            "albedo              338\n",
            "rot_per           34595\n",
            "GM                37678\n",
            "BV                37385\n",
            "UB                37398\n",
            "IR                37681\n",
            "spec_B            37300\n",
            "spec_T            37406\n",
            "neo                   0\n",
            "pha                   0\n",
            "moid                  0\n",
            "dtype: int64\n",
            "______________ \n",
            "\n",
            "Porcentaje de valores nulos totales:\n",
            "full_name          0.000\n",
            "a                  0.000\n",
            "e                  0.000\n",
            "G                 37.645\n",
            "i                  0.000\n",
            "om                 0.000\n",
            "w                  0.000\n",
            "q                  0.000\n",
            "ad                 0.000\n",
            "per_y              0.000\n",
            "data_arc           0.042\n",
            "condition_code     0.000\n",
            "n_obs_used         0.000\n",
            "H                  0.201\n",
            "extent            37.676\n",
            "albedo             0.338\n",
            "rot_per           34.595\n",
            "GM                37.678\n",
            "BV                37.385\n",
            "UB                37.398\n",
            "IR                37.681\n",
            "spec_B            37.300\n",
            "spec_T            37.406\n",
            "neo                0.000\n",
            "pha                0.000\n",
            "moid               0.000\n",
            "dtype: float64\n"
          ]
        }
      ]
    },
    {
      "cell_type": "markdown",
      "metadata": {
        "id": "i0WHxnD0DARL"
      },
      "source": [
        "Eliminamos las siguientes variables de nuestro analisis:\n",
        "\n",
        "* full_name: Dado que es el nombre del asteroide y no nos entrega información relevante de cara al analisis.\n",
        "* G, extent, rot_per, GM, BV, UB, IR, spec_B, spec_T: Todas ellas las elimanaremos de nuestro dataset dado el alto número de datos nulos que poseen (sobre el 99% de los valores nulos) eso dificulta poder realizar cualquier tipo de tratamiento a las mismas.\n",
        "* neo: Contiene valores categoricos que no aplican al modelo seleccionado\n",
        "* pha: Contiene valores categoricos que no aplican al modelo seleccionado\n",
        "* condition_code: la cual posee valores del 0 al 9, pero que cada una de ellas indica una información que no conocemos."
      ]
    },
    {
      "cell_type": "code",
      "metadata": {
        "colab": {
          "base_uri": "https://localhost:8080/"
        },
        "id": "2u4Wxjq-DyIK",
        "outputId": "f395ed07-dcfe-4f05-ccc3-80c0131e8bd8"
      },
      "source": [
        "datos_eva = datos_eva.drop(['full_name','G','extent','rot_per','GM','BV','UB','IR','spec_B','spec_T','neo','pha','condition_code'], axis=1)\n",
        "print(datos_eva.columns)"
      ],
      "execution_count": 220,
      "outputs": [
        {
          "output_type": "stream",
          "name": "stdout",
          "text": [
            "Index(['a', 'e', 'i', 'om', 'w', 'q', 'ad', 'per_y', 'data_arc', 'n_obs_used',\n",
            "       'H', 'albedo', 'moid'],\n",
            "      dtype='object')\n"
          ]
        }
      ]
    },
    {
      "cell_type": "markdown",
      "metadata": {
        "id": "mKaJrE0OEODg"
      },
      "source": [
        "Generamos una matriz con todos los datos, para visualizar que tan poblado se encuentra cada una de las distintas variables."
      ]
    },
    {
      "cell_type": "code",
      "metadata": {
        "colab": {
          "base_uri": "https://localhost:8080/",
          "height": 687
        },
        "id": "Y2vnVxUIEWv8",
        "outputId": "2faaf2b6-0fd7-47cf-93a4-2660aa103934"
      },
      "source": [
        "print(msno.matrix(datos_eva))"
      ],
      "execution_count": 221,
      "outputs": [
        {
          "output_type": "stream",
          "name": "stdout",
          "text": [
            "AxesSubplot(0.125,0.125;0.698618x0.755)\n"
          ]
        },
        {
          "output_type": "display_data",
          "data": {
            "image/png": "[encoded data removed]",
            "text/plain": [
              "<Figure size 1800x720 with 2 Axes>"
            ]
          },
          "metadata": {
            "needs_background": "light"
          }
        }
      ]
    },
    {
      "cell_type": "markdown",
      "metadata": {
        "id": "iCqV9xNsEqWa"
      },
      "source": [
        "Considerando que el dataset contiene una gran cantidad de datos y podemos observar que aún existen datos nulos dentro de las variables que hemos seleccionado, decidimos eliminar directamente lo valores nulos que aun se mantienen al igual que la data de entrenamiento."
      ]
    },
    {
      "cell_type": "code",
      "metadata": {
        "colab": {
          "base_uri": "https://localhost:8080/"
        },
        "id": "dRJv1YyXEuzo",
        "outputId": "d3000bc5-2e9d-4da6-f526-03345a863de1"
      },
      "source": [
        "datos_eva = datos_eva.dropna()\n",
        "datos_eva.info()\n",
        "print('\\n')\n",
        "print('Podemos observar que el dataset a quedado sin datos nulos')"
      ],
      "execution_count": 222,
      "outputs": [
        {
          "output_type": "stream",
          "name": "stdout",
          "text": [
            "<class 'pandas.core.frame.DataFrame'>\n",
            "Int64Index: 37229 entries, 0 to 37679\n",
            "Data columns (total 13 columns):\n",
            " #   Column      Non-Null Count  Dtype  \n",
            "---  ------      --------------  -----  \n",
            " 0   a           37229 non-null  float64\n",
            " 1   e           37229 non-null  float64\n",
            " 2   i           37229 non-null  float64\n",
            " 3   om          37229 non-null  float64\n",
            " 4   w           37229 non-null  float64\n",
            " 5   q           37229 non-null  float64\n",
            " 6   ad          37229 non-null  float64\n",
            " 7   per_y       37229 non-null  float64\n",
            " 8   data_arc    37229 non-null  float64\n",
            " 9   n_obs_used  37229 non-null  int64  \n",
            " 10  H           37229 non-null  float64\n",
            " 11  albedo      37229 non-null  float64\n",
            " 12  moid        37229 non-null  float64\n",
            "dtypes: float64(12), int64(1)\n",
            "memory usage: 4.0 MB\n",
            "\n",
            "\n",
            "Podemos observar que el dataset a quedado sin datos nulos\n"
          ]
        }
      ]
    },
    {
      "cell_type": "markdown",
      "metadata": {
        "id": "LXM_tE3pFZzs"
      },
      "source": [
        "Al terminar de procesar la data de evaluación, procederemos aplicar el modelo seleccionado KNN para su predicción."
      ]
    },
    {
      "cell_type": "code",
      "metadata": {
        "colab": {
          "base_uri": "https://localhost:8080/"
        },
        "id": "0qJ5sfz_Fwuv",
        "outputId": "7266b3ca-1b16-433e-d50b-f47a26cc2164"
      },
      "source": [
        "prediccion_knn = KNN.predict(datos_eva)\n",
        "print(prediccion_knn)\n",
        "print(\"Logramos predecir el campo Danger en formato Array\")"
      ],
      "execution_count": 223,
      "outputs": [
        {
          "output_type": "stream",
          "name": "stdout",
          "text": [
            "['1' '1' '1' ... '1' '1' '1']\n",
            "Logramos predecir el campo Danger en formato Array\n"
          ]
        }
      ]
    },
    {
      "cell_type": "markdown",
      "metadata": {
        "id": "TBYo4HS9NEHy"
      },
      "source": [
        "Al obtener la predicción, se procede a tranformar la data obtenida en formato Dataframe para poder manejarla.\n",
        "\n",
        "Se procede a renombrar la columna obtenida a columna Danger"
      ]
    },
    {
      "cell_type": "code",
      "metadata": {
        "id": "nT_-j_0tNEcv"
      },
      "source": [
        "prediccion_knn = pd.DataFrame(prediccion_knn)\n",
        "prediccion_knn.columns = ['Danger']"
      ],
      "execution_count": 224,
      "outputs": []
    },
    {
      "cell_type": "markdown",
      "metadata": {
        "id": "tZ8RSHg5NXxr"
      },
      "source": [
        "Una vez ya cambiada la columna, procedemos a cambiar la variable 0 y 1 a False y True para que pueda ser incluida dentro del modelo predecido."
      ]
    },
    {
      "cell_type": "code",
      "metadata": {
        "id": "c3gI4WtONX_B",
        "colab": {
          "base_uri": "https://localhost:8080/"
        },
        "outputId": "e3ee5a10-1bc5-4d82-8b1a-c602133aecea"
      },
      "source": [
        "prediccion_knn[\"Danger\"].replace({\"0\": False, \"1\": True}, inplace=True)\n",
        "\n",
        "print(\"Danger, obtieniendo la cantidad de True y False\")\n",
        "print(prediccion_knn.Danger.value_counts(normalize=True))"
      ],
      "execution_count": 225,
      "outputs": [
        {
          "output_type": "stream",
          "name": "stdout",
          "text": [
            "Danger, obtieniendo la cantidad de True y False\n",
            "True     0.997959\n",
            "False    0.002041\n",
            "Name: Danger, dtype: float64\n"
          ]
        }
      ]
    },
    {
      "cell_type": "markdown",
      "metadata": {
        "id": "6cTfJGIkN8OR"
      },
      "source": [
        "Creamos un nuevo modelo datos_eva2 para poder incluirle el nuevo campo Danger, donde procederemos primero a incluirle un campos id autoincrementado a los dos datos ya obtenidos ( data para predecir, campo danger ya predecido segun los datos para predecir), para posterior hacer un JOIN entre ambas tablas con su campos ID para poder incluir el nuevo campo Danger."
      ]
    },
    {
      "cell_type": "code",
      "metadata": {
        "id": "uYZyuoBNN8ee"
      },
      "source": [
        "datos_eva2 = datos_eva;\n",
        "prediccion_knn['id'] = np.arange(prediccion_knn.shape[0]);\n",
        "datos_eva2['id'] = np.arange(datos_eva2.shape[0]);\n",
        "\n",
        "modelo_knn_predi = datos_eva2.set_index('id').join(prediccion_knn.set_index('id'))"
      ],
      "execution_count": 226,
      "outputs": []
    },
    {
      "cell_type": "markdown",
      "metadata": {
        "id": "KnRYuQw6Omw6"
      },
      "source": [
        "Una vez ya generado el JOIN de ambas tablas, se procede a generar un archivo CSV con el \"**nombre prediccion_knn.csv**\" donde podemos apreciar la predicción Danger."
      ]
    },
    {
      "cell_type": "code",
      "metadata": {
        "id": "ZGAwYO7FOm6I",
        "colab": {
          "base_uri": "https://localhost:8080/"
        },
        "outputId": "efad053e-3b7b-472f-88fb-d693dc12b1ae"
      },
      "source": [
        "datos_eva_completo = modelo_knn_predi\n",
        "datos_eva_completo.to_csv('prediccion_knn.csv', encoding='utf-8')\n",
        "print(datos_eva_completo)"
      ],
      "execution_count": 227,
      "outputs": [
        {
          "output_type": "stream",
          "name": "stdout",
          "text": [
            "              a         e          i  ...  albedo      moid  Danger\n",
            "id                                    ...                          \n",
            "0      2.585567  0.166582   9.121644  ...   0.159  1.179660    True\n",
            "1      2.470354  0.133032   5.591205  ...   0.193  1.129810    True\n",
            "2      2.296654  0.217674  10.128731  ...   0.181  0.813258    True\n",
            "3      2.914849  0.097677  13.715312  ...   0.166  1.643210    True\n",
            "4      2.400161  0.254614  21.604840  ...   0.350  0.923495    True\n",
            "...         ...       ...        ...  ...     ...       ...     ...\n",
            "37224  3.159771  0.178476  10.209864  ...   0.101  1.608000    True\n",
            "37225  3.195944  0.232949  26.521186  ...   0.111  1.590970    True\n",
            "37226  3.194157  0.587350   6.487226  ...   0.043  0.324697    True\n",
            "37227  3.155975  0.430349  28.718353  ...   0.116  0.854315    True\n",
            "37228  3.171225  0.159119  27.098625  ...   0.021  1.663010    True\n",
            "\n",
            "[37229 rows x 14 columns]\n"
          ]
        }
      ]
    }
  ]
}